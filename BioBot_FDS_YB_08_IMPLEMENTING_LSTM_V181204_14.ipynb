{
  "nbformat": 4,
  "nbformat_minor": 0,
  "metadata": {
    "colab": {
      "name": "BioBot_FDS_YB_08_IMPLEMENTING_LSTM_V181204_14.ipynb",
      "version": "0.3.2",
      "provenance": [],
      "collapsed_sections": [],
      "toc_visible": true
    },
    "kernelspec": {
      "name": "python3",
      "display_name": "Python 3"
    },
    "accelerator": "GPU"
  },
  "cells": [
    {
      "metadata": {
        "id": "IjyaQqpewlW4",
        "colab_type": "text"
      },
      "cell_type": "markdown",
      "source": [
        "# BioBot_FDS_YB_08_IMPLEMENTING_LSTM\n",
        "## Deliverable_08: Implementing LSTM RNN Models\n",
        "Author/code developer: Yan Bello. 04/12/2018. As part of the Master in Artificial Intelligence (UNIR). \n",
        "This file/code is part of the development and exploration/experimentation on a Fall Detection System (FDS). \n",
        "\n",
        "---\n",
        "\n",
        "\n",
        "In the following sections, we used this dataset: \n",
        "SisFall: A Fall and Movement Dataset. \n",
        "Created by: A. Sucerquia, J.D. López, J.F. Vargas-Bonilla\n",
        "SISTEMIC, Faculty of Engineering, Universidad de Antiquia UDEA.\n",
        "Detailed information about this dataset can be found in this website: http://sistemic.udea.edu.co/en/investigacion/proyectos/english-falls/.\n",
        "Reference paper: Sucerquia A, López JD, Vargas-Bonilla JF. SisFall: A Fall and Movement Dataset. Sensors (Basel). 2017;17(1):198. Published 2017 Jan 20. doi:10.3390/s17010198\n",
        "\n",
        "---\n",
        "\n"
      ]
    },
    {
      "metadata": {
        "id": "ZtKbNjXglibh",
        "colab_type": "text"
      },
      "cell_type": "markdown",
      "source": [
        "## 8.0. Step 0. Need to mount Google Drive for Colab"
      ]
    },
    {
      "metadata": {
        "id": "3zwtaJ0RwiwC",
        "colab_type": "code",
        "outputId": "fbe96559-0d59-4d47-9f21-ab81e8f10e44",
        "colab": {
          "base_uri": "https://localhost:8080/",
          "height": 34
        }
      },
      "cell_type": "code",
      "source": [
        "# Preliminary step 0. We need to establish/select our working folders. First, ensure  the previous dataset files are available.\n",
        "# The code below is prepared to work with two options: local drive or mounting a Google Drive for Colab\n",
        "# Select the appropriate configuration for your environment by commenting/un-commenting the following lines:\n",
        "\n",
        "# To work with Google Colab and Google Drive: \n",
        "from google.colab import drive \n",
        "drive.mount('/content/gdrive')\n",
        "FILE_DIRECTORY =  \"gdrive/My Drive/Colab Notebooks/\"\n",
        "SisFall_ALL_DIRECTORY =  FILE_DIRECTORY + \"SisFall_dataset_ALL/\"\n",
        "\n",
        "# To work with a local drive, uncomment these line:\n",
        "# FILE_DIRECTORY =  os.getcwd() + \"\\\\\"\n",
        "# SisFall_ALL_DIRECTORY =  FILE_DIRECTORY + \"SisFall_dataset_ALL\\\\\""
      ],
      "execution_count": 0,
      "outputs": [
        {
          "output_type": "stream",
          "text": [
            "Drive already mounted at /content/gdrive; to attempt to forcibly remount, call drive.mount(\"/content/gdrive\", force_remount=True).\n"
          ],
          "name": "stdout"
        }
      ]
    },
    {
      "metadata": {
        "id": "qjL29dLrluWX",
        "colab_type": "text"
      },
      "cell_type": "markdown",
      "source": [
        "## 8.1. Step 1. Import the processed dataset"
      ]
    },
    {
      "metadata": {
        "id": "AX1kSYtOeokk",
        "colab_type": "code",
        "outputId": "2a102f92-c981-4755-a3b6-f76337aae9b9",
        "colab": {
          "base_uri": "https://localhost:8080/",
          "height": 1537
        }
      },
      "cell_type": "code",
      "source": [
        "# Step 1. Import the processed dataset\n",
        "import os\n",
        "from os import walk\n",
        "\n",
        "\n",
        "my_data_file_name = FILE_DIRECTORY + \"DS_ADL_Falls_NEW_181202.txt\"\n",
        "\n",
        "import pandas as pd\n",
        "\n",
        "# Create a data frame and load the data\n",
        "df_ADL_Falls = pd.DataFrame(pd.read_csv(my_data_file_name, sep = ','))\n",
        "\n",
        "df_ADL_Falls.drop('0', axis=1, inplace=True)\n",
        "\n",
        "df_only_ADLs = df_ADL_Falls[df_ADL_Falls.Fall_ADL == \"D\"]\n",
        "df_only_Falls = df_ADL_Falls[df_ADL_Falls.Fall_ADL == \"F\"]\n",
        "\n",
        "# display the data frame\n",
        "print(df_only_ADLs.head())\n",
        "print(df_only_ADLs.tail())\n",
        "print(df_only_Falls.head())\n",
        "print(df_only_Falls.tail())"
      ],
      "execution_count": 0,
      "outputs": [
        {
          "output_type": "stream",
          "text": [
            "   S1_X  S1_Y  S1_Z  S2_X  S2_Y  S2_Z  S3_X  S3_Y  S3_Z  S1_N_XYZ  \\\n",
            "0   -13  -252   -51   -89   -38   -18   -45 -1020  -172  1.005615   \n",
            "1    -6  -250   -48   -87   -41   -21   -41 -1017  -169  0.994676   \n",
            "2    -9  -247   -50   -84   -43   -24   -38 -1007  -163  0.985041   \n",
            "3    -8  -247   -46   -81   -40   -27   -36 -1005  -163  0.981931   \n",
            "4    -8  -243   -46   -78   -31   -30   -35  -995  -165  0.966582   \n",
            "\n",
            "         ...          S2_AV_X   S2_AV_Y   S2_AV_Z  S3_N_HOR  S3_N_VER  \\\n",
            "0        ...        -5.432129 -2.319336 -1.098633  1.010157  0.173622   \n",
            "1        ...        -5.310059 -2.502441 -1.281738  1.006783  0.169826   \n",
            "2        ...        -5.126953 -2.624512 -1.464844  0.996198  0.163448   \n",
            "3        ...        -4.943848 -2.441406 -1.647949  0.994270  0.163016   \n",
            "4        ...        -4.760742 -1.892090 -1.831055  0.984949  0.164718   \n",
            "\n",
            "   S3_N_XYZ  Age_Cat  Fall_ADL Act_Type              File  \n",
            "0  1.011112       SA         D      D09  D09_SA09_R01.txt  \n",
            "1  1.007579       SA         D      D09  D09_SA09_R01.txt  \n",
            "2  0.996889       SA         D      D09  D09_SA09_R01.txt  \n",
            "3  0.994891       SA         D      D09  D09_SA09_R01.txt  \n",
            "4  0.985542       SA         D      D09  D09_SA09_R01.txt  \n",
            "\n",
            "[5 rows x 22 columns]\n",
            "         S1_X  S1_Y  S1_Z  S2_X  S2_Y  S2_Z  S3_X  S3_Y  S3_Z  S1_N_XYZ  \\\n",
            "1080593  -307  -392  -137  -773  -255   803 -1108 -1423  -579  2.017237   \n",
            "1080594  -359  -462  -212  -259  -387  1023 -1304 -1766  -828  2.430896   \n",
            "1080595  -430  -567  -262   -89  -564  1297 -1573 -2207 -1097  2.962146   \n",
            "1080596  -436  -699  -124  -325  -676  1748 -1688 -2681  -726  3.254338   \n",
            "1080597  -364  -841    41  -493  -601  2273 -1447 -3196    -6  3.583243   \n",
            "\n",
            "               ...           S2_AV_X    S2_AV_Y     S2_AV_Z  S3_N_HOR  \\\n",
            "1080593        ...        -47.180176 -15.563965   49.011230  1.500278   \n",
            "1080594        ...        -15.808105 -23.620605   62.438965  1.904758   \n",
            "1080595        ...         -5.432129 -34.423828   79.162598  2.406837   \n",
            "1080596        ...        -19.836426 -41.259766  106.689453  2.712460   \n",
            "1080597        ...        -30.090332 -36.682129  138.732910  3.121099   \n",
            "\n",
            "         S3_N_VER  S3_N_XYZ  Age_Cat  Fall_ADL Act_Type              File  \n",
            "1080593  1.220861  1.849764       SA         D      D06  D06_SA23_R03.txt  \n",
            "1080594  1.508465  2.291232       SA         D      D06  D06_SA23_R03.txt  \n",
            "1080595  1.872796  2.855270       SA         D      D06  D06_SA23_R03.txt  \n",
            "1080596  1.794437  3.174081       SA         D      D06  D06_SA23_R03.txt  \n",
            "1080597  1.413098  3.426087       SA         D      D06  D06_SA23_R03.txt  \n",
            "\n",
            "[5 rows x 22 columns]\n",
            "         S1_X  S1_Y  S1_Z  S2_X  S2_Y  S2_Z  S3_X  S3_Y  S3_Z  S1_N_XYZ  \\\n",
            "1080598   -18  -221   -75    34    22   445   -40  -833  -341  0.914346   \n",
            "1080599   -32  -211   -73   134    16   467  -101  -807  -330  0.881065   \n",
            "1080600   -46  -207   -72   211    13   475  -156  -799  -314  0.874765   \n",
            "1080601   -58  -203   -67   264    15   477  -196  -793  -311  0.865232   \n",
            "1080602   -63  -204   -65   293    20   468  -227  -790  -291  0.871803   \n",
            "\n",
            "               ...           S2_AV_X   S2_AV_Y    S2_AV_Z  S3_N_HOR  S3_N_VER  \\\n",
            "1080598        ...          2.075195  1.342773  27.160645  0.878998  0.335291   \n",
            "1080599        ...          8.178711  0.976562  28.503418  0.851431  0.337022   \n",
            "1080600        ...         12.878418  0.793457  28.991699  0.838365  0.342399   \n",
            "1080601        ...         16.113281  0.915527  29.113770  0.831840  0.358994   \n",
            "1080602        ...         17.883301  1.220703  28.564453  0.822159  0.360416   \n",
            "\n",
            "         S3_N_XYZ  Age_Cat  Fall_ADL Act_Type              File  \n",
            "1080598  0.879866       SA         F      F03  F03_SA23_R04.txt  \n",
            "1080599  0.857125       SA         F      F03  F03_SA23_R04.txt  \n",
            "1080600  0.852094       SA         F      F03  F03_SA23_R04.txt  \n",
            "1080601  0.853577       SA         F      F03  F03_SA23_R04.txt  \n",
            "1080602  0.851521       SA         F      F03  F03_SA23_R04.txt  \n",
            "\n",
            "[5 rows x 22 columns]\n",
            "         S1_X  S1_Y  S1_Z  S2_X  S2_Y  S2_Z  S3_X  S3_Y  S3_Z  S1_N_XYZ  \\\n",
            "2161191   234   -84    32  -182   393   231   932  -289    87  0.979184   \n",
            "2161192   233   -83    37  -190   407   219   937  -297    92  0.976930   \n",
            "2161193   238   -84    32  -190   419   206   942  -303    94  0.993786   \n",
            "2161194   237   -87    35  -185   426   189   948  -304   101  0.995619   \n",
            "2161195   237   -88    33  -174   431   173   947  -305   100  0.995918   \n",
            "\n",
            "               ...           S2_AV_X    S2_AV_Y    S2_AV_Z  S3_N_HOR  \\\n",
            "2161191        ...        -11.108398  23.986816  14.099121  0.294737   \n",
            "2161192        ...        -11.596680  24.841309  13.366699  0.303636   \n",
            "2161193        ...        -11.596680  25.573730  12.573242  0.309811   \n",
            "2161194        ...        -11.291504  26.000977  11.535645  0.312831   \n",
            "2161195        ...        -10.620117  26.306152  10.559082  0.313452   \n",
            "\n",
            "         S3_N_VER  S3_N_XYZ  Age_Cat  Fall_ADL Act_Type              File  \n",
            "2161191  0.914113  0.956689       SA         F      F03  F03_SA23_R03.txt  \n",
            "2161192  0.919439  0.964101       SA         F      F03  F03_SA23_R03.txt  \n",
            "2161193  0.924491  0.970690       SA         F      F03  F03_SA23_R03.txt  \n",
            "2161194  0.931021  0.977207       SA         F      F03  F03_SA23_R03.txt  \n",
            "2161195  0.929946  0.976481       SA         F      F03  F03_SA23_R03.txt  \n",
            "\n",
            "[5 rows x 22 columns]\n"
          ],
          "name": "stdout"
        }
      ]
    },
    {
      "metadata": {
        "id": "czSiPYjUl5gH",
        "colab_type": "text"
      },
      "cell_type": "markdown",
      "source": [
        "### Step 1.1 Check the size of dataset (each type of event: Falls & ADLs)"
      ]
    },
    {
      "metadata": {
        "id": "M1SnGz5kx3sP",
        "colab_type": "code",
        "outputId": "b8417363-ca62-44de-88de-b8eba16b1027",
        "colab": {
          "base_uri": "https://localhost:8080/",
          "height": 1606
        }
      },
      "cell_type": "code",
      "source": [
        "# Step 1.1 Check the size of dataset (each type of event: Falls & ADLs)\n",
        "# show the data frame\n",
        "print(\"df_only_ADLs.head()\")\n",
        "print(df_only_ADLs.head())\n",
        "print(\"df_only_ADLs.tail()\")\n",
        "print(df_only_ADLs.tail())\n",
        "print(\"df_only_Falls.head()\")\n",
        "print(df_only_Falls.head())\n",
        "print(\"df_only_Falls.tail()\")\n",
        "print(df_only_Falls.tail())"
      ],
      "execution_count": 0,
      "outputs": [
        {
          "output_type": "stream",
          "text": [
            "df_only_ADLs.head()\n",
            "   S1_X  S1_Y  S1_Z  S2_X  S2_Y  S2_Z  S3_X  S3_Y  S3_Z  S1_N_XYZ  \\\n",
            "0   -13  -252   -51   -89   -38   -18   -45 -1020  -172  1.005615   \n",
            "1    -6  -250   -48   -87   -41   -21   -41 -1017  -169  0.994676   \n",
            "2    -9  -247   -50   -84   -43   -24   -38 -1007  -163  0.985041   \n",
            "3    -8  -247   -46   -81   -40   -27   -36 -1005  -163  0.981931   \n",
            "4    -8  -243   -46   -78   -31   -30   -35  -995  -165  0.966582   \n",
            "\n",
            "         ...          S2_AV_X   S2_AV_Y   S2_AV_Z  S3_N_HOR  S3_N_VER  \\\n",
            "0        ...        -5.432129 -2.319336 -1.098633  1.010157  0.173622   \n",
            "1        ...        -5.310059 -2.502441 -1.281738  1.006783  0.169826   \n",
            "2        ...        -5.126953 -2.624512 -1.464844  0.996198  0.163448   \n",
            "3        ...        -4.943848 -2.441406 -1.647949  0.994270  0.163016   \n",
            "4        ...        -4.760742 -1.892090 -1.831055  0.984949  0.164718   \n",
            "\n",
            "   S3_N_XYZ  Age_Cat  Fall_ADL Act_Type              File  \n",
            "0  1.011112       SA         D      D09  D09_SA09_R01.txt  \n",
            "1  1.007579       SA         D      D09  D09_SA09_R01.txt  \n",
            "2  0.996889       SA         D      D09  D09_SA09_R01.txt  \n",
            "3  0.994891       SA         D      D09  D09_SA09_R01.txt  \n",
            "4  0.985542       SA         D      D09  D09_SA09_R01.txt  \n",
            "\n",
            "[5 rows x 22 columns]\n",
            "df_only_ADLs.tail()\n",
            "         S1_X  S1_Y  S1_Z  S2_X  S2_Y  S2_Z  S3_X  S3_Y  S3_Z  S1_N_XYZ  \\\n",
            "1080593  -307  -392  -137  -773  -255   803 -1108 -1423  -579  2.017237   \n",
            "1080594  -359  -462  -212  -259  -387  1023 -1304 -1766  -828  2.430896   \n",
            "1080595  -430  -567  -262   -89  -564  1297 -1573 -2207 -1097  2.962146   \n",
            "1080596  -436  -699  -124  -325  -676  1748 -1688 -2681  -726  3.254338   \n",
            "1080597  -364  -841    41  -493  -601  2273 -1447 -3196    -6  3.583243   \n",
            "\n",
            "               ...           S2_AV_X    S2_AV_Y     S2_AV_Z  S3_N_HOR  \\\n",
            "1080593        ...        -47.180176 -15.563965   49.011230  1.500278   \n",
            "1080594        ...        -15.808105 -23.620605   62.438965  1.904758   \n",
            "1080595        ...         -5.432129 -34.423828   79.162598  2.406837   \n",
            "1080596        ...        -19.836426 -41.259766  106.689453  2.712460   \n",
            "1080597        ...        -30.090332 -36.682129  138.732910  3.121099   \n",
            "\n",
            "         S3_N_VER  S3_N_XYZ  Age_Cat  Fall_ADL Act_Type              File  \n",
            "1080593  1.220861  1.849764       SA         D      D06  D06_SA23_R03.txt  \n",
            "1080594  1.508465  2.291232       SA         D      D06  D06_SA23_R03.txt  \n",
            "1080595  1.872796  2.855270       SA         D      D06  D06_SA23_R03.txt  \n",
            "1080596  1.794437  3.174081       SA         D      D06  D06_SA23_R03.txt  \n",
            "1080597  1.413098  3.426087       SA         D      D06  D06_SA23_R03.txt  \n",
            "\n",
            "[5 rows x 22 columns]\n",
            "df_only_Falls.head()\n",
            "         S1_X  S1_Y  S1_Z  S2_X  S2_Y  S2_Z  S3_X  S3_Y  S3_Z  S1_N_XYZ  \\\n",
            "1080598   -18  -221   -75    34    22   445   -40  -833  -341  0.914346   \n",
            "1080599   -32  -211   -73   134    16   467  -101  -807  -330  0.881065   \n",
            "1080600   -46  -207   -72   211    13   475  -156  -799  -314  0.874765   \n",
            "1080601   -58  -203   -67   264    15   477  -196  -793  -311  0.865232   \n",
            "1080602   -63  -204   -65   293    20   468  -227  -790  -291  0.871803   \n",
            "\n",
            "               ...           S2_AV_X   S2_AV_Y    S2_AV_Z  S3_N_HOR  S3_N_VER  \\\n",
            "1080598        ...          2.075195  1.342773  27.160645  0.878998  0.335291   \n",
            "1080599        ...          8.178711  0.976562  28.503418  0.851431  0.337022   \n",
            "1080600        ...         12.878418  0.793457  28.991699  0.838365  0.342399   \n",
            "1080601        ...         16.113281  0.915527  29.113770  0.831840  0.358994   \n",
            "1080602        ...         17.883301  1.220703  28.564453  0.822159  0.360416   \n",
            "\n",
            "         S3_N_XYZ  Age_Cat  Fall_ADL Act_Type              File  \n",
            "1080598  0.879866       SA         F      F03  F03_SA23_R04.txt  \n",
            "1080599  0.857125       SA         F      F03  F03_SA23_R04.txt  \n",
            "1080600  0.852094       SA         F      F03  F03_SA23_R04.txt  \n",
            "1080601  0.853577       SA         F      F03  F03_SA23_R04.txt  \n",
            "1080602  0.851521       SA         F      F03  F03_SA23_R04.txt  \n",
            "\n",
            "[5 rows x 22 columns]\n",
            "df_only_Falls.tail()\n",
            "         S1_X  S1_Y  S1_Z  S2_X  S2_Y  S2_Z  S3_X  S3_Y  S3_Z  S1_N_XYZ  \\\n",
            "2161191   234   -84    32  -182   393   231   932  -289    87  0.979184   \n",
            "2161192   233   -83    37  -190   407   219   937  -297    92  0.976930   \n",
            "2161193   238   -84    32  -190   419   206   942  -303    94  0.993786   \n",
            "2161194   237   -87    35  -185   426   189   948  -304   101  0.995619   \n",
            "2161195   237   -88    33  -174   431   173   947  -305   100  0.995918   \n",
            "\n",
            "               ...           S2_AV_X    S2_AV_Y    S2_AV_Z  S3_N_HOR  \\\n",
            "2161191        ...        -11.108398  23.986816  14.099121  0.294737   \n",
            "2161192        ...        -11.596680  24.841309  13.366699  0.303636   \n",
            "2161193        ...        -11.596680  25.573730  12.573242  0.309811   \n",
            "2161194        ...        -11.291504  26.000977  11.535645  0.312831   \n",
            "2161195        ...        -10.620117  26.306152  10.559082  0.313452   \n",
            "\n",
            "         S3_N_VER  S3_N_XYZ  Age_Cat  Fall_ADL Act_Type              File  \n",
            "2161191  0.914113  0.956689       SA         F      F03  F03_SA23_R03.txt  \n",
            "2161192  0.919439  0.964101       SA         F      F03  F03_SA23_R03.txt  \n",
            "2161193  0.924491  0.970690       SA         F      F03  F03_SA23_R03.txt  \n",
            "2161194  0.931021  0.977207       SA         F      F03  F03_SA23_R03.txt  \n",
            "2161195  0.929946  0.976481       SA         F      F03  F03_SA23_R03.txt  \n",
            "\n",
            "[5 rows x 22 columns]\n"
          ],
          "name": "stdout"
        }
      ]
    },
    {
      "metadata": {
        "id": "353qDhcimAIu",
        "colab_type": "text"
      },
      "cell_type": "markdown",
      "source": [
        "### Step 1.2 Shape of datasets"
      ]
    },
    {
      "metadata": {
        "id": "8ZhYQqGXyy8T",
        "colab_type": "code",
        "outputId": "1dc7f9c4-4e4b-4ce9-e874-7efc659a13a7",
        "colab": {
          "base_uri": "https://localhost:8080/",
          "height": 86
        }
      },
      "cell_type": "code",
      "source": [
        "# Step 1.2 Shape of datasets\n",
        "print(\"df_only_ADLs\")\n",
        "print(df_only_ADLs.shape)\n",
        "print(\"df_only_Falls\")\n",
        "print(df_only_Falls.shape)\n"
      ],
      "execution_count": 0,
      "outputs": [
        {
          "output_type": "stream",
          "text": [
            "df_only_ADLs\n",
            "(1080598, 22)\n",
            "df_only_Falls\n",
            "(1080598, 22)\n"
          ],
          "name": "stdout"
        }
      ]
    },
    {
      "metadata": {
        "id": "d4bkQ7wmmDMr",
        "colab_type": "text"
      },
      "cell_type": "markdown",
      "source": [
        "## 8.2. Step 2. Prepare a DataFrame with the relevant features "
      ]
    },
    {
      "metadata": {
        "id": "-10FT6bEeoIB",
        "colab_type": "code",
        "colab": {}
      },
      "cell_type": "code",
      "source": [
        "# Step 2. Prepare a DataFrame with the relevant features \n",
        "# 1st trial: Using only Sensor 1 (X, Y, Z)\n",
        "\n",
        "#series = pd.DataFrame(df_only_ADLs)\n",
        "#series100 = df_only_ADLs.loc[0:100, [\"S1_X\",\"S1_Y\",\"S1_Z\",\"S2_X\",\"S2_Y\",\"S2_Z\",\"S3_X\",\"S3_Y\",\"S3_Z\"]]\n",
        "series = df_only_Falls.loc[:, [\"S1_X\",\"S1_Y\",\"S1_Z\"]]"
      ],
      "execution_count": 0,
      "outputs": []
    },
    {
      "metadata": {
        "id": "02mzXdwsj8PZ",
        "colab_type": "code",
        "outputId": "c6fc0838-c1c3-490d-81e5-bc61f098a7b9",
        "colab": {
          "base_uri": "https://localhost:8080/",
          "height": 296
        }
      },
      "cell_type": "code",
      "source": [
        "series.describe()"
      ],
      "execution_count": 0,
      "outputs": [
        {
          "output_type": "execute_result",
          "data": {
            "text/html": [
              "<div>\n",
              "<style scoped>\n",
              "    .dataframe tbody tr th:only-of-type {\n",
              "        vertical-align: middle;\n",
              "    }\n",
              "\n",
              "    .dataframe tbody tr th {\n",
              "        vertical-align: top;\n",
              "    }\n",
              "\n",
              "    .dataframe thead th {\n",
              "        text-align: right;\n",
              "    }\n",
              "</style>\n",
              "<table border=\"1\" class=\"dataframe\">\n",
              "  <thead>\n",
              "    <tr style=\"text-align: right;\">\n",
              "      <th></th>\n",
              "      <th>S1_X</th>\n",
              "      <th>S1_Y</th>\n",
              "      <th>S1_Z</th>\n",
              "    </tr>\n",
              "  </thead>\n",
              "  <tbody>\n",
              "    <tr>\n",
              "      <th>count</th>\n",
              "      <td>1.080598e+06</td>\n",
              "      <td>1.080598e+06</td>\n",
              "      <td>1.080598e+06</td>\n",
              "    </tr>\n",
              "    <tr>\n",
              "      <th>mean</th>\n",
              "      <td>-8.107005e+00</td>\n",
              "      <td>-1.193407e+02</td>\n",
              "      <td>-5.099350e+01</td>\n",
              "    </tr>\n",
              "    <tr>\n",
              "      <th>std</th>\n",
              "      <td>1.751743e+02</td>\n",
              "      <td>1.880731e+02</td>\n",
              "      <td>1.733202e+02</td>\n",
              "    </tr>\n",
              "    <tr>\n",
              "      <th>min</th>\n",
              "      <td>-4.096000e+03</td>\n",
              "      <td>-4.096000e+03</td>\n",
              "      <td>-4.096000e+03</td>\n",
              "    </tr>\n",
              "    <tr>\n",
              "      <th>25%</th>\n",
              "      <td>-4.400000e+01</td>\n",
              "      <td>-2.370000e+02</td>\n",
              "      <td>-1.460000e+02</td>\n",
              "    </tr>\n",
              "    <tr>\n",
              "      <th>50%</th>\n",
              "      <td>1.000000e+00</td>\n",
              "      <td>-1.560000e+02</td>\n",
              "      <td>-5.600000e+01</td>\n",
              "    </tr>\n",
              "    <tr>\n",
              "      <th>75%</th>\n",
              "      <td>3.700000e+01</td>\n",
              "      <td>6.000000e+00</td>\n",
              "      <td>3.300000e+01</td>\n",
              "    </tr>\n",
              "    <tr>\n",
              "      <th>max</th>\n",
              "      <td>4.094000e+03</td>\n",
              "      <td>4.092000e+03</td>\n",
              "      <td>4.091000e+03</td>\n",
              "    </tr>\n",
              "  </tbody>\n",
              "</table>\n",
              "</div>"
            ],
            "text/plain": [
              "               S1_X          S1_Y          S1_Z\n",
              "count  1.080598e+06  1.080598e+06  1.080598e+06\n",
              "mean  -8.107005e+00 -1.193407e+02 -5.099350e+01\n",
              "std    1.751743e+02  1.880731e+02  1.733202e+02\n",
              "min   -4.096000e+03 -4.096000e+03 -4.096000e+03\n",
              "25%   -4.400000e+01 -2.370000e+02 -1.460000e+02\n",
              "50%    1.000000e+00 -1.560000e+02 -5.600000e+01\n",
              "75%    3.700000e+01  6.000000e+00  3.300000e+01\n",
              "max    4.094000e+03  4.092000e+03  4.091000e+03"
            ]
          },
          "metadata": {
            "tags": []
          },
          "execution_count": 6
        }
      ]
    },
    {
      "metadata": {
        "id": "vgZrw_SnmK-0",
        "colab_type": "text"
      },
      "cell_type": "markdown",
      "source": [
        "## 8.3. Step 3. Scale the data. Impotant to use data as input of LSTM"
      ]
    },
    {
      "metadata": {
        "id": "_YBEafHHkm1i",
        "colab_type": "code",
        "outputId": "de192fd0-359c-421f-b151-563f0663d46d",
        "colab": {
          "base_uri": "https://localhost:8080/",
          "height": 313
        }
      },
      "cell_type": "code",
      "source": [
        "# Step 3. Scale the data. Impotant to use data as input of LSTM\n",
        "from sklearn.preprocessing import MinMaxScaler\n",
        "\n",
        "scaler = MinMaxScaler()\n",
        "scaler.fit(series)\n",
        "scaled_Series = scaler.transform(series)\n",
        "print(scaled_Series.shape)\n",
        "df_Scaled_3col = pd.DataFrame(scaled_Series)\n",
        "df_Scaled_3col.columns = series.columns\n",
        "df_Scaled_3col.describe()"
      ],
      "execution_count": 0,
      "outputs": [
        {
          "output_type": "stream",
          "text": [
            "(1080598, 3)\n"
          ],
          "name": "stdout"
        },
        {
          "output_type": "execute_result",
          "data": {
            "text/html": [
              "<div>\n",
              "<style scoped>\n",
              "    .dataframe tbody tr th:only-of-type {\n",
              "        vertical-align: middle;\n",
              "    }\n",
              "\n",
              "    .dataframe tbody tr th {\n",
              "        vertical-align: top;\n",
              "    }\n",
              "\n",
              "    .dataframe thead th {\n",
              "        text-align: right;\n",
              "    }\n",
              "</style>\n",
              "<table border=\"1\" class=\"dataframe\">\n",
              "  <thead>\n",
              "    <tr style=\"text-align: right;\">\n",
              "      <th></th>\n",
              "      <th>S1_X</th>\n",
              "      <th>S1_Y</th>\n",
              "      <th>S1_Z</th>\n",
              "    </tr>\n",
              "  </thead>\n",
              "  <tbody>\n",
              "    <tr>\n",
              "      <th>count</th>\n",
              "      <td>1.080598e+06</td>\n",
              "      <td>1.080598e+06</td>\n",
              "      <td>1.080598e+06</td>\n",
              "    </tr>\n",
              "    <tr>\n",
              "      <th>mean</th>\n",
              "      <td>4.991322e-01</td>\n",
              "      <td>4.856692e-01</td>\n",
              "      <td>4.940768e-01</td>\n",
              "    </tr>\n",
              "    <tr>\n",
              "      <th>std</th>\n",
              "      <td>2.138880e-02</td>\n",
              "      <td>2.296936e-02</td>\n",
              "      <td>2.117017e-02</td>\n",
              "    </tr>\n",
              "    <tr>\n",
              "      <th>min</th>\n",
              "      <td>0.000000e+00</td>\n",
              "      <td>0.000000e+00</td>\n",
              "      <td>0.000000e+00</td>\n",
              "    </tr>\n",
              "    <tr>\n",
              "      <th>25%</th>\n",
              "      <td>4.947497e-01</td>\n",
              "      <td>4.712995e-01</td>\n",
              "      <td>4.824722e-01</td>\n",
              "    </tr>\n",
              "    <tr>\n",
              "      <th>50%</th>\n",
              "      <td>5.002442e-01</td>\n",
              "      <td>4.811920e-01</td>\n",
              "      <td>4.934652e-01</td>\n",
              "    </tr>\n",
              "    <tr>\n",
              "      <th>75%</th>\n",
              "      <td>5.046398e-01</td>\n",
              "      <td>5.009770e-01</td>\n",
              "      <td>5.043361e-01</td>\n",
              "    </tr>\n",
              "    <tr>\n",
              "      <th>max</th>\n",
              "      <td>1.000000e+00</td>\n",
              "      <td>1.000000e+00</td>\n",
              "      <td>1.000000e+00</td>\n",
              "    </tr>\n",
              "  </tbody>\n",
              "</table>\n",
              "</div>"
            ],
            "text/plain": [
              "               S1_X          S1_Y          S1_Z\n",
              "count  1.080598e+06  1.080598e+06  1.080598e+06\n",
              "mean   4.991322e-01  4.856692e-01  4.940768e-01\n",
              "std    2.138880e-02  2.296936e-02  2.117017e-02\n",
              "min    0.000000e+00  0.000000e+00  0.000000e+00\n",
              "25%    4.947497e-01  4.712995e-01  4.824722e-01\n",
              "50%    5.002442e-01  4.811920e-01  4.934652e-01\n",
              "75%    5.046398e-01  5.009770e-01  5.043361e-01\n",
              "max    1.000000e+00  1.000000e+00  1.000000e+00"
            ]
          },
          "metadata": {
            "tags": []
          },
          "execution_count": 7
        }
      ]
    },
    {
      "metadata": {
        "id": "N1fFfeXrN4BF",
        "colab_type": "code",
        "outputId": "c3af28ab-892d-4f2e-d5d3-8fe8bfb19589",
        "colab": {
          "base_uri": "https://localhost:8080/",
          "height": 51
        }
      },
      "cell_type": "code",
      "source": [
        "# For memory reasons keep only 50% of records\n",
        "print(df_Scaled_3col.shape)\n",
        "df_Scaled_3col = pd.DataFrame(df_Scaled_3col.iloc[:500000,:])\n",
        "print(df_Scaled_3col.shape)"
      ],
      "execution_count": 0,
      "outputs": [
        {
          "output_type": "stream",
          "text": [
            "(1080598, 3)\n",
            "(500000, 3)\n"
          ],
          "name": "stdout"
        }
      ]
    },
    {
      "metadata": {
        "id": "lwHETpy1mRoA",
        "colab_type": "text"
      },
      "cell_type": "markdown",
      "source": [
        "### Step 3.1 shift the date 100 steps"
      ]
    },
    {
      "metadata": {
        "id": "Cj5X3Nshe-KT",
        "colab_type": "code",
        "outputId": "b1285fbd-9adc-411c-a6eb-a88cfe3f9ae0",
        "colab": {
          "base_uri": "https://localhost:8080/",
          "height": 1761
        }
      },
      "cell_type": "code",
      "source": [
        "# Step 3.1 shift the date 100 steps\n",
        "def shift_data(my_data, nr_steps_to_shift=100, starting_step=0, txt_shift = \"Step:\"):\n",
        "\n",
        "  window_size =  nr_steps_to_shift # número de pasos que usaremos en la LSTM\n",
        "\n",
        "  series2 = my_data.copy()\n",
        "  shifted = series2.shift(-(starting_step+1))\n",
        "  print(txt_shift + str(1)+\"/\"+str(window_size))\n",
        "  \n",
        "  if window_size >1:\n",
        "    for index in range(window_size-1):\n",
        "      shifted = pd.concat([shifted, series2.shift(-(starting_step+index+2))], axis=1)\n",
        "      print(txt_shift + str(index+2)+\"/\"+str(window_size))\n",
        "    \n",
        "  del series2\n",
        "  \n",
        "  return shifted    \n",
        "  \n",
        "df_Scaled1 = shift_data(df_Scaled_3col, 100, txt_shift=\"1-bloque, step:\")\n",
        "\n",
        "print(df_Scaled1.shape)\n",
        "\n"
      ],
      "execution_count": 0,
      "outputs": [
        {
          "output_type": "stream",
          "text": [
            "1-bloque, step:1/100\n",
            "1-bloque, step:2/100\n",
            "1-bloque, step:3/100\n",
            "1-bloque, step:4/100\n",
            "1-bloque, step:5/100\n",
            "1-bloque, step:6/100\n",
            "1-bloque, step:7/100\n",
            "1-bloque, step:8/100\n",
            "1-bloque, step:9/100\n",
            "1-bloque, step:10/100\n",
            "1-bloque, step:11/100\n",
            "1-bloque, step:12/100\n",
            "1-bloque, step:13/100\n",
            "1-bloque, step:14/100\n",
            "1-bloque, step:15/100\n",
            "1-bloque, step:16/100\n",
            "1-bloque, step:17/100\n",
            "1-bloque, step:18/100\n",
            "1-bloque, step:19/100\n",
            "1-bloque, step:20/100\n",
            "1-bloque, step:21/100\n",
            "1-bloque, step:22/100\n",
            "1-bloque, step:23/100\n",
            "1-bloque, step:24/100\n",
            "1-bloque, step:25/100\n",
            "1-bloque, step:26/100\n",
            "1-bloque, step:27/100\n",
            "1-bloque, step:28/100\n",
            "1-bloque, step:29/100\n",
            "1-bloque, step:30/100\n",
            "1-bloque, step:31/100\n",
            "1-bloque, step:32/100\n",
            "1-bloque, step:33/100\n",
            "1-bloque, step:34/100\n",
            "1-bloque, step:35/100\n",
            "1-bloque, step:36/100\n",
            "1-bloque, step:37/100\n",
            "1-bloque, step:38/100\n",
            "1-bloque, step:39/100\n",
            "1-bloque, step:40/100\n",
            "1-bloque, step:41/100\n",
            "1-bloque, step:42/100\n",
            "1-bloque, step:43/100\n",
            "1-bloque, step:44/100\n",
            "1-bloque, step:45/100\n",
            "1-bloque, step:46/100\n",
            "1-bloque, step:47/100\n",
            "1-bloque, step:48/100\n",
            "1-bloque, step:49/100\n",
            "1-bloque, step:50/100\n",
            "1-bloque, step:51/100\n",
            "1-bloque, step:52/100\n",
            "1-bloque, step:53/100\n",
            "1-bloque, step:54/100\n",
            "1-bloque, step:55/100\n",
            "1-bloque, step:56/100\n",
            "1-bloque, step:57/100\n",
            "1-bloque, step:58/100\n",
            "1-bloque, step:59/100\n",
            "1-bloque, step:60/100\n",
            "1-bloque, step:61/100\n",
            "1-bloque, step:62/100\n",
            "1-bloque, step:63/100\n",
            "1-bloque, step:64/100\n",
            "1-bloque, step:65/100\n",
            "1-bloque, step:66/100\n",
            "1-bloque, step:67/100\n",
            "1-bloque, step:68/100\n",
            "1-bloque, step:69/100\n",
            "1-bloque, step:70/100\n",
            "1-bloque, step:71/100\n",
            "1-bloque, step:72/100\n",
            "1-bloque, step:73/100\n",
            "1-bloque, step:74/100\n",
            "1-bloque, step:75/100\n",
            "1-bloque, step:76/100\n",
            "1-bloque, step:77/100\n",
            "1-bloque, step:78/100\n",
            "1-bloque, step:79/100\n",
            "1-bloque, step:80/100\n",
            "1-bloque, step:81/100\n",
            "1-bloque, step:82/100\n",
            "1-bloque, step:83/100\n",
            "1-bloque, step:84/100\n",
            "1-bloque, step:85/100\n",
            "1-bloque, step:86/100\n",
            "1-bloque, step:87/100\n",
            "1-bloque, step:88/100\n",
            "1-bloque, step:89/100\n",
            "1-bloque, step:90/100\n",
            "1-bloque, step:91/100\n",
            "1-bloque, step:92/100\n",
            "1-bloque, step:93/100\n",
            "1-bloque, step:94/100\n",
            "1-bloque, step:95/100\n",
            "1-bloque, step:96/100\n",
            "1-bloque, step:97/100\n",
            "1-bloque, step:98/100\n",
            "1-bloque, step:99/100\n",
            "1-bloque, step:100/100\n",
            "(500000, 300)\n"
          ],
          "name": "stdout"
        }
      ]
    },
    {
      "metadata": {
        "id": "c4FH515-mZEJ",
        "colab_type": "text"
      },
      "cell_type": "markdown",
      "source": [
        "### Step 3.1b. Try to append/shift another 100 steps"
      ]
    },
    {
      "metadata": {
        "id": "3icbd3urJv8C",
        "colab_type": "code",
        "outputId": "4f5d77b8-79cc-4cd1-9dee-eeeaf73edab5",
        "colab": {
          "base_uri": "https://localhost:8080/",
          "height": 2521
        }
      },
      "cell_type": "code",
      "source": [
        "# Step 3.1b. Try to append/shift another 100 steps\n",
        "\n",
        "df_Scaled2 = shift_data(df_Scaled_3col, 100, 100, txt_shift=\"2-bloque, step:\")\n",
        "\n",
        "df_Scaled = pd.concat([df_Scaled1, df_Scaled2], axis=1)\n",
        "\n",
        "del df_Scaled1, df_Scaled2\n",
        "\n",
        "print(df_Scaled.shape)\n",
        "print(df_Scaled.head())\n",
        "print(df_Scaled.tail())\n"
      ],
      "execution_count": 0,
      "outputs": [
        {
          "output_type": "stream",
          "text": [
            "2-bloque, step:1/100\n",
            "2-bloque, step:2/100\n",
            "2-bloque, step:3/100\n",
            "2-bloque, step:4/100\n",
            "2-bloque, step:5/100\n",
            "2-bloque, step:6/100\n",
            "2-bloque, step:7/100\n",
            "2-bloque, step:8/100\n",
            "2-bloque, step:9/100\n",
            "2-bloque, step:10/100\n",
            "2-bloque, step:11/100\n",
            "2-bloque, step:12/100\n",
            "2-bloque, step:13/100\n",
            "2-bloque, step:14/100\n",
            "2-bloque, step:15/100\n",
            "2-bloque, step:16/100\n",
            "2-bloque, step:17/100\n",
            "2-bloque, step:18/100\n",
            "2-bloque, step:19/100\n",
            "2-bloque, step:20/100\n",
            "2-bloque, step:21/100\n",
            "2-bloque, step:22/100\n",
            "2-bloque, step:23/100\n",
            "2-bloque, step:24/100\n",
            "2-bloque, step:25/100\n",
            "2-bloque, step:26/100\n",
            "2-bloque, step:27/100\n",
            "2-bloque, step:28/100\n",
            "2-bloque, step:29/100\n",
            "2-bloque, step:30/100\n",
            "2-bloque, step:31/100\n",
            "2-bloque, step:32/100\n",
            "2-bloque, step:33/100\n",
            "2-bloque, step:34/100\n",
            "2-bloque, step:35/100\n",
            "2-bloque, step:36/100\n",
            "2-bloque, step:37/100\n",
            "2-bloque, step:38/100\n",
            "2-bloque, step:39/100\n",
            "2-bloque, step:40/100\n",
            "2-bloque, step:41/100\n",
            "2-bloque, step:42/100\n",
            "2-bloque, step:43/100\n",
            "2-bloque, step:44/100\n",
            "2-bloque, step:45/100\n",
            "2-bloque, step:46/100\n",
            "2-bloque, step:47/100\n",
            "2-bloque, step:48/100\n",
            "2-bloque, step:49/100\n",
            "2-bloque, step:50/100\n",
            "2-bloque, step:51/100\n",
            "2-bloque, step:52/100\n",
            "2-bloque, step:53/100\n",
            "2-bloque, step:54/100\n",
            "2-bloque, step:55/100\n",
            "2-bloque, step:56/100\n",
            "2-bloque, step:57/100\n",
            "2-bloque, step:58/100\n",
            "2-bloque, step:59/100\n",
            "2-bloque, step:60/100\n",
            "2-bloque, step:61/100\n",
            "2-bloque, step:62/100\n",
            "2-bloque, step:63/100\n",
            "2-bloque, step:64/100\n",
            "2-bloque, step:65/100\n",
            "2-bloque, step:66/100\n",
            "2-bloque, step:67/100\n",
            "2-bloque, step:68/100\n",
            "2-bloque, step:69/100\n",
            "2-bloque, step:70/100\n",
            "2-bloque, step:71/100\n",
            "2-bloque, step:72/100\n",
            "2-bloque, step:73/100\n",
            "2-bloque, step:74/100\n",
            "2-bloque, step:75/100\n",
            "2-bloque, step:76/100\n",
            "2-bloque, step:77/100\n",
            "2-bloque, step:78/100\n",
            "2-bloque, step:79/100\n",
            "2-bloque, step:80/100\n",
            "2-bloque, step:81/100\n",
            "2-bloque, step:82/100\n",
            "2-bloque, step:83/100\n",
            "2-bloque, step:84/100\n",
            "2-bloque, step:85/100\n",
            "2-bloque, step:86/100\n",
            "2-bloque, step:87/100\n",
            "2-bloque, step:88/100\n",
            "2-bloque, step:89/100\n",
            "2-bloque, step:90/100\n",
            "2-bloque, step:91/100\n",
            "2-bloque, step:92/100\n",
            "2-bloque, step:93/100\n",
            "2-bloque, step:94/100\n",
            "2-bloque, step:95/100\n",
            "2-bloque, step:96/100\n",
            "2-bloque, step:97/100\n",
            "2-bloque, step:98/100\n",
            "2-bloque, step:99/100\n",
            "2-bloque, step:100/100\n",
            "(500000, 600)\n",
            "       S1_X      S1_Y      S1_Z      S1_X      S1_Y      S1_Z      S1_X  \\\n",
            "0  0.496215  0.474475  0.491389  0.494505  0.474963  0.491511  0.493040   \n",
            "1  0.494505  0.474963  0.491511  0.493040  0.475452  0.492122  0.492430   \n",
            "2  0.493040  0.475452  0.492122  0.492430  0.475330  0.492366  0.491697   \n",
            "3  0.492430  0.475330  0.492366  0.491697  0.475452  0.492732  0.491087   \n",
            "4  0.491697  0.475452  0.492732  0.491087  0.475085  0.493099  0.491575   \n",
            "\n",
            "       S1_Y      S1_Z      S1_X    ...         S1_Z      S1_X      S1_Y  \\\n",
            "0  0.475452  0.492122  0.492430    ...     0.475999  0.505495  0.467269   \n",
            "1  0.475330  0.492366  0.491697    ...     0.476609  0.503907  0.471055   \n",
            "2  0.475452  0.492732  0.491087    ...     0.475999  0.501587  0.474841   \n",
            "3  0.475085  0.493099  0.491575    ...     0.476487  0.500488  0.477650   \n",
            "4  0.475574  0.492977  0.492308    ...     0.477831  0.498046  0.480459   \n",
            "\n",
            "       S1_Z      S1_X      S1_Y      S1_Z      S1_X      S1_Y      S1_Z  \n",
            "0  0.476609  0.503907  0.471055  0.475999  0.501587  0.474841  0.476487  \n",
            "1  0.475999  0.501587  0.474841  0.476487  0.500488  0.477650  0.477831  \n",
            "2  0.476487  0.500488  0.477650  0.477831  0.498046  0.480459  0.479174  \n",
            "3  0.477831  0.498046  0.480459  0.479174  0.495482  0.482047  0.480762  \n",
            "4  0.479174  0.495482  0.482047  0.480762  0.493773  0.483390  0.482839  \n",
            "\n",
            "[5 rows x 600 columns]\n",
            "            S1_X      S1_Y      S1_Z      S1_X      S1_Y      S1_Z      S1_X  \\\n",
            "499995  0.492430  0.510503  0.464883  0.492186  0.510381  0.465250  0.492430   \n",
            "499996  0.492186  0.510381  0.465250  0.492430  0.510503  0.465616  0.492552   \n",
            "499997  0.492430  0.510503  0.465616  0.492552  0.510381  0.465861       NaN   \n",
            "499998  0.492552  0.510381  0.465861       NaN       NaN       NaN       NaN   \n",
            "499999       NaN       NaN       NaN       NaN       NaN       NaN       NaN   \n",
            "\n",
            "            S1_Y      S1_Z      S1_X  ...   S1_Z  S1_X  S1_Y  S1_Z  S1_X  \\\n",
            "499995  0.510503  0.465616  0.492552  ...    NaN   NaN   NaN   NaN   NaN   \n",
            "499996  0.510381  0.465861       NaN  ...    NaN   NaN   NaN   NaN   NaN   \n",
            "499997       NaN       NaN       NaN  ...    NaN   NaN   NaN   NaN   NaN   \n",
            "499998       NaN       NaN       NaN  ...    NaN   NaN   NaN   NaN   NaN   \n",
            "499999       NaN       NaN       NaN  ...    NaN   NaN   NaN   NaN   NaN   \n",
            "\n",
            "        S1_Y  S1_Z  S1_X  S1_Y  S1_Z  \n",
            "499995   NaN   NaN   NaN   NaN   NaN  \n",
            "499996   NaN   NaN   NaN   NaN   NaN  \n",
            "499997   NaN   NaN   NaN   NaN   NaN  \n",
            "499998   NaN   NaN   NaN   NaN   NaN  \n",
            "499999   NaN   NaN   NaN   NaN   NaN  \n",
            "\n",
            "[5 rows x 600 columns]\n"
          ],
          "name": "stdout"
        }
      ]
    },
    {
      "metadata": {
        "id": "kE0Sf4Evmc5V",
        "colab_type": "text"
      },
      "cell_type": "markdown",
      "source": [
        "### Step 3.2 Rename columns"
      ]
    },
    {
      "metadata": {
        "id": "pNHl_5KCWWGI",
        "colab_type": "code",
        "outputId": "a906c158-331d-4b46-c873-762f4693094d",
        "colab": {
          "base_uri": "https://localhost:8080/",
          "height": 120
        }
      },
      "cell_type": "code",
      "source": [
        "# Step 3.2 Rename columns\n",
        "col_names = list()\n",
        "#col_names = ['S1_X_0','S1_Y_0',\t'S1_Z_0']\n",
        "for i in range(int(len(df_Scaled.columns)/3)):\n",
        "  col_names += ['S1_X_'+ str(i+1),'S1_Y_'+ str(i+1),'S1_Z_'+ str(i+1)]\n",
        "\n",
        "\n",
        "df_Scaled.columns = col_names\n",
        "print(df_Scaled.columns)"
      ],
      "execution_count": 0,
      "outputs": [
        {
          "output_type": "stream",
          "text": [
            "Index(['S1_X_1', 'S1_Y_1', 'S1_Z_1', 'S1_X_2', 'S1_Y_2', 'S1_Z_2', 'S1_X_3',\n",
            "       'S1_Y_3', 'S1_Z_3', 'S1_X_4',\n",
            "       ...\n",
            "       'S1_Z_197', 'S1_X_198', 'S1_Y_198', 'S1_Z_198', 'S1_X_199', 'S1_Y_199',\n",
            "       'S1_Z_199', 'S1_X_200', 'S1_Y_200', 'S1_Z_200'],\n",
            "      dtype='object', length=600)\n"
          ],
          "name": "stdout"
        }
      ]
    },
    {
      "metadata": {
        "id": "uA6-NY6zmhWt",
        "colab_type": "text"
      },
      "cell_type": "markdown",
      "source": [
        "### Step 3.3 Removing the NA's resulting from the shift"
      ]
    },
    {
      "metadata": {
        "id": "U-jxIkV6YY7C",
        "colab_type": "code",
        "outputId": "3e3d1a56-26ca-4750-8303-8babd94300ac",
        "colab": {
          "base_uri": "https://localhost:8080/",
          "height": 828
        }
      },
      "cell_type": "code",
      "source": [
        "# Step 3.3 Removing the NA's resulting from the shift\n",
        "# As we shifted 100 times, there would be 100 rows with NA's\n",
        "\n",
        "print(df_Scaled.tail())\n",
        "print(df_Scaled.shape)\n",
        "\n",
        "# eliminamos los NA's (resultantes del shift)\n",
        "df_Scaled.dropna(inplace=True)\n",
        "\n",
        "print(\"df_Scaled\")\n",
        "print(df_Scaled.tail())\n",
        "print(df_Scaled.shape)\n"
      ],
      "execution_count": 0,
      "outputs": [
        {
          "output_type": "stream",
          "text": [
            "          S1_X_1    S1_Y_1    S1_Z_1    S1_X_2    S1_Y_2    S1_Z_2    S1_X_3  \\\n",
            "499995  0.492430  0.510503  0.464883  0.492186  0.510381  0.465250  0.492430   \n",
            "499996  0.492186  0.510381  0.465250  0.492430  0.510503  0.465616  0.492552   \n",
            "499997  0.492430  0.510503  0.465616  0.492552  0.510381  0.465861       NaN   \n",
            "499998  0.492552  0.510381  0.465861       NaN       NaN       NaN       NaN   \n",
            "499999       NaN       NaN       NaN       NaN       NaN       NaN       NaN   \n",
            "\n",
            "          S1_Y_3    S1_Z_3    S1_X_4    ...     S1_Z_197  S1_X_198  S1_Y_198  \\\n",
            "499995  0.510503  0.465616  0.492552    ...          NaN       NaN       NaN   \n",
            "499996  0.510381  0.465861       NaN    ...          NaN       NaN       NaN   \n",
            "499997       NaN       NaN       NaN    ...          NaN       NaN       NaN   \n",
            "499998       NaN       NaN       NaN    ...          NaN       NaN       NaN   \n",
            "499999       NaN       NaN       NaN    ...          NaN       NaN       NaN   \n",
            "\n",
            "        S1_Z_198  S1_X_199  S1_Y_199  S1_Z_199  S1_X_200  S1_Y_200  S1_Z_200  \n",
            "499995       NaN       NaN       NaN       NaN       NaN       NaN       NaN  \n",
            "499996       NaN       NaN       NaN       NaN       NaN       NaN       NaN  \n",
            "499997       NaN       NaN       NaN       NaN       NaN       NaN       NaN  \n",
            "499998       NaN       NaN       NaN       NaN       NaN       NaN       NaN  \n",
            "499999       NaN       NaN       NaN       NaN       NaN       NaN       NaN  \n",
            "\n",
            "[5 rows x 600 columns]\n",
            "(500000, 600)\n",
            "df_Scaled\n",
            "          S1_X_1    S1_Y_1    S1_Z_1    S1_X_2    S1_Y_2    S1_Z_2    S1_X_3  \\\n",
            "499795  0.524908  0.477406  0.404544  0.521490  0.471299  0.410529  0.529792   \n",
            "499796  0.521490  0.471299  0.410529  0.529792  0.466048  0.417735  0.530647   \n",
            "499797  0.529792  0.466048  0.417735  0.530647  0.460674  0.423965  0.519048   \n",
            "499798  0.530647  0.460674  0.423965  0.519048  0.454079  0.433370  0.504884   \n",
            "499799  0.519048  0.454079  0.433370  0.504884  0.450537  0.440332  0.491209   \n",
            "\n",
            "          S1_Y_3    S1_Z_3    S1_X_4    ...     S1_Z_197  S1_X_198  S1_Y_198  \\\n",
            "499795  0.466048  0.417735  0.530647    ...     0.464883  0.492430  0.509404   \n",
            "499796  0.460674  0.423965  0.519048    ...     0.465372  0.492430  0.510381   \n",
            "499797  0.454079  0.433370  0.504884    ...     0.465005  0.492063  0.510137   \n",
            "499798  0.450537  0.440332  0.491209    ...     0.465372  0.492430  0.510503   \n",
            "499799  0.455911  0.445218  0.484982    ...     0.464883  0.492186  0.510381   \n",
            "\n",
            "        S1_Z_198  S1_X_199  S1_Y_199  S1_Z_199  S1_X_200  S1_Y_200  S1_Z_200  \n",
            "499795  0.465372  0.492430  0.510381  0.465005  0.492063  0.510137  0.465372  \n",
            "499796  0.465005  0.492063  0.510137  0.465372  0.492430  0.510503  0.464883  \n",
            "499797  0.465372  0.492430  0.510503  0.464883  0.492186  0.510381  0.465250  \n",
            "499798  0.464883  0.492186  0.510381  0.465250  0.492430  0.510503  0.465616  \n",
            "499799  0.465250  0.492430  0.510503  0.465616  0.492552  0.510381  0.465861  \n",
            "\n",
            "[5 rows x 600 columns]\n",
            "(499800, 600)\n"
          ],
          "name": "stdout"
        }
      ]
    },
    {
      "metadata": {
        "id": "Creu6DoUml8Q",
        "colab_type": "text"
      },
      "cell_type": "markdown",
      "source": [
        "### Step 3.4 Separate the columns of features (x) and prediction (y)"
      ]
    },
    {
      "metadata": {
        "id": "o50UDmp4sfAI",
        "colab_type": "code",
        "outputId": "dbc7f994-2450-4e24-c52f-ff3189140edb",
        "colab": {
          "base_uri": "https://localhost:8080/",
          "height": 846
        }
      },
      "cell_type": "code",
      "source": [
        "# Step 3.4 Separate the columns of features (x) and prediction (y)\n",
        "# In this case we take into account that the number of steps = 100\n",
        "\n",
        "df_Scaled_y = pd.DataFrame(df_Scaled.iloc[:,-300:])\n",
        "df_Scaled_x = pd.DataFrame(df_Scaled.iloc[:,:-300])\n",
        "\n",
        "print(\"df_Scaled_x\")\n",
        "print(df_Scaled_x.head())\n",
        "print(df_Scaled_x.shape)\n",
        "print(\"df_Scaled_y\")\n",
        "print(df_Scaled_y.head())\n",
        "print(df_Scaled_y.shape)"
      ],
      "execution_count": 0,
      "outputs": [
        {
          "output_type": "stream",
          "text": [
            "df_Scaled_x\n",
            "     S1_X_1    S1_Y_1    S1_Z_1    S1_X_2    S1_Y_2    S1_Z_2    S1_X_3  \\\n",
            "0  0.496215  0.474475  0.491389  0.494505  0.474963  0.491511  0.493040   \n",
            "1  0.494505  0.474963  0.491511  0.493040  0.475452  0.492122  0.492430   \n",
            "2  0.493040  0.475452  0.492122  0.492430  0.475330  0.492366  0.491697   \n",
            "3  0.492430  0.475330  0.492366  0.491697  0.475452  0.492732  0.491087   \n",
            "4  0.491697  0.475452  0.492732  0.491087  0.475085  0.493099  0.491575   \n",
            "\n",
            "     S1_Y_3    S1_Z_3    S1_X_4    ...      S1_Z_97   S1_X_98   S1_Y_98  \\\n",
            "0  0.475452  0.492122  0.492430    ...     0.488946  0.500122  0.472521   \n",
            "1  0.475330  0.492366  0.491697    ...     0.489557  0.498901  0.470689   \n",
            "2  0.475452  0.492732  0.491087    ...     0.489801  0.497558  0.468735   \n",
            "3  0.475085  0.493099  0.491575    ...     0.489923  0.497070  0.467025   \n",
            "4  0.475574  0.492977  0.492308    ...     0.490412  0.495849  0.465559   \n",
            "\n",
            "    S1_Z_98   S1_X_99   S1_Y_99   S1_Z_99  S1_X_100  S1_Y_100  S1_Z_100  \n",
            "0  0.489557  0.498901  0.470689  0.489801  0.497558  0.468735  0.489923  \n",
            "1  0.489801  0.497558  0.468735  0.489923  0.497070  0.467025  0.490412  \n",
            "2  0.489923  0.497070  0.467025  0.490412  0.495849  0.465559  0.490289  \n",
            "3  0.490412  0.495849  0.465559  0.490289  0.495116  0.464460  0.491267  \n",
            "4  0.490289  0.495116  0.464460  0.491267  0.494750  0.464216  0.490778  \n",
            "\n",
            "[5 rows x 300 columns]\n",
            "(499800, 300)\n",
            "df_Scaled_y\n",
            "   S1_X_101  S1_Y_101  S1_Z_101  S1_X_102  S1_Y_102  S1_Z_102  S1_X_103  \\\n",
            "0  0.497070  0.467025  0.490412  0.495849  0.465559  0.490289  0.495116   \n",
            "1  0.495849  0.465559  0.490289  0.495116  0.464460  0.491267  0.494750   \n",
            "2  0.495116  0.464460  0.491267  0.494750  0.464216  0.490778  0.494261   \n",
            "3  0.494750  0.464216  0.490778  0.494261  0.464582  0.490900  0.494017   \n",
            "4  0.494261  0.464582  0.490900  0.494017  0.465315  0.491022  0.494139   \n",
            "\n",
            "   S1_Y_103  S1_Z_103  S1_X_104    ...     S1_Z_197  S1_X_198  S1_Y_198  \\\n",
            "0  0.464460  0.491267  0.494750    ...     0.475999  0.505495  0.467269   \n",
            "1  0.464216  0.490778  0.494261    ...     0.476609  0.503907  0.471055   \n",
            "2  0.464582  0.490900  0.494017    ...     0.475999  0.501587  0.474841   \n",
            "3  0.465315  0.491022  0.494139    ...     0.476487  0.500488  0.477650   \n",
            "4  0.466781  0.491144  0.494628    ...     0.477831  0.498046  0.480459   \n",
            "\n",
            "   S1_Z_198  S1_X_199  S1_Y_199  S1_Z_199  S1_X_200  S1_Y_200  S1_Z_200  \n",
            "0  0.476609  0.503907  0.471055  0.475999  0.501587  0.474841  0.476487  \n",
            "1  0.475999  0.501587  0.474841  0.476487  0.500488  0.477650  0.477831  \n",
            "2  0.476487  0.500488  0.477650  0.477831  0.498046  0.480459  0.479174  \n",
            "3  0.477831  0.498046  0.480459  0.479174  0.495482  0.482047  0.480762  \n",
            "4  0.479174  0.495482  0.482047  0.480762  0.493773  0.483390  0.482839  \n",
            "\n",
            "[5 rows x 300 columns]\n",
            "(499800, 300)\n"
          ],
          "name": "stdout"
        }
      ]
    },
    {
      "metadata": {
        "id": "iGpyGQJNf0YL",
        "colab_type": "code",
        "outputId": "547a433a-bfa0-48b4-b882-1690b6ecbad3",
        "colab": {
          "base_uri": "https://localhost:8080/",
          "height": 155
        }
      },
      "cell_type": "code",
      "source": [
        "# import numpy\n",
        "import numpy as np\n",
        "\n",
        "# dividimos el dataset para training y test:\n",
        "n_train = int(df_Scaled_y.shape[0]*0.5)\n",
        "n_val = int(df_Scaled_y.shape[0]*0.3)\n",
        "print(\"n_train:\" + str(n_train))\n",
        "print(\"n_val:\" + str(n_val))\n",
        "\n",
        "train_x = np.array(df_Scaled_x.iloc[:n_train, :])\n",
        "train_y = np.array(df_Scaled_y[:n_train])\n",
        "val_x = np.array(df_Scaled_x.iloc[n_train:n_train+n_val, :])\n",
        "val_y = np.array(df_Scaled_y[n_train:n_train+n_val])\n",
        "test_x = np.array(df_Scaled_x.iloc[n_train+n_val:, :])\n",
        "test_y = np.array(df_Scaled_y[n_train+n_val:])\n",
        "\n",
        "# reshape input to be 3D [samples, timesteps, features]\n",
        "train_x = train_x.reshape((train_x.shape[0], 100, 3))\n",
        "val_x = val_x.reshape((val_x.shape[0], 100, 3))\n",
        "test_x = test_x.reshape((test_x.shape[0], 100, 3))\n",
        "\n",
        "train_y = train_y.reshape((train_y.shape[0], 100, 3))\n",
        "val_y = val_y.reshape((val_y.shape[0], 100, 3))\n",
        "test_y = test_y.reshape((test_y.shape[0], 100, 3))\n",
        "\n",
        "print(\"training sets (x,y)\")\n",
        "print(train_x.shape, train_y.shape)\n",
        "print(\"val sets (x,y)\")\n",
        "print(val_x.shape, val_y.shape)      \n",
        "print(\"test sets (x,y)\")\n",
        "print(test_x.shape, test_y.shape)"
      ],
      "execution_count": 0,
      "outputs": [
        {
          "output_type": "stream",
          "text": [
            "n_train:249900\n",
            "n_val:149940\n",
            "training sets (x,y)\n",
            "(249900, 100, 3) (249900, 100, 3)\n",
            "val sets (x,y)\n",
            "(149940, 100, 3) (149940, 100, 3)\n",
            "test sets (x,y)\n",
            "(99960, 100, 3) (99960, 100, 3)\n"
          ],
          "name": "stdout"
        }
      ]
    },
    {
      "metadata": {
        "id": "bW4tATRxlYuh",
        "colab_type": "code",
        "colab": {}
      },
      "cell_type": "code",
      "source": [
        "train_xp = train_x[:10000,:,:]\n",
        "train_yp = train_y[:10000,:]\n",
        "val_xp = val_x[:5000,:,:]\n",
        "val_yp = val_y[:5000,:]\n",
        "test_xp = test_x[:5000,:,:]\n",
        "test_yp = test_y[:5000,:]"
      ],
      "execution_count": 0,
      "outputs": []
    },
    {
      "metadata": {
        "id": "VOC1eToKdscJ",
        "colab_type": "code",
        "outputId": "335d95ac-41a6-44a2-f682-7233cada699b",
        "colab": {
          "base_uri": "https://localhost:8080/",
          "height": 68
        }
      },
      "cell_type": "code",
      "source": [
        "print(train_xp.shape,train_yp.shape)\n",
        "print(val_xp.shape,val_yp.shape)\n",
        "print(test_xp.shape,test_yp.shape)"
      ],
      "execution_count": 0,
      "outputs": [
        {
          "output_type": "stream",
          "text": [
            "(10000, 100, 3) (10000, 100, 3)\n",
            "(5000, 100, 3) (5000, 100, 3)\n",
            "(5000, 100, 3) (5000, 100, 3)\n"
          ],
          "name": "stdout"
        }
      ]
    },
    {
      "metadata": {
        "id": "_KGAZ9SIm6_H",
        "colab_type": "text"
      },
      "cell_type": "markdown",
      "source": [
        "## 8.4. Design, compile and train the LSTM Network"
      ]
    },
    {
      "metadata": {
        "id": "abB49OORg2YT",
        "colab_type": "code",
        "colab": {}
      },
      "cell_type": "code",
      "source": [
        "from matplotlib import pyplot\n",
        "from keras.models import Sequential\n",
        "from keras.layers import Dense, Dropout, Embedding, LSTM, Bidirectional\n",
        "from tensorflow import keras\n",
        "\n",
        "# Design the LSTM Network\n",
        "my_model_NN = keras.Sequential()\n",
        "my_model_NN.add(keras.layers.Dropout(0.5))\n",
        "my_model_NN.add(keras.layers.LSTM(100, activation='relu', input_shape=(train_xp.shape[1], train_xp.shape[2]),return_sequences=True))\n",
        "my_model_NN.add(keras.layers.Dropout(0.5))\n",
        "my_model_NN.add(keras.layers.Dense(3))\n",
        "\n"
      ],
      "execution_count": 0,
      "outputs": []
    },
    {
      "metadata": {
        "id": "dsIFprSTnGV8",
        "colab_type": "text"
      },
      "cell_type": "markdown",
      "source": [
        "### Compile the LSTM Model"
      ]
    },
    {
      "metadata": {
        "id": "QgrmgnCYbAow",
        "colab_type": "code",
        "colab": {}
      },
      "cell_type": "code",
      "source": [
        "my_model_NN.compile(loss='mae', optimizer='adam')"
      ],
      "execution_count": 0,
      "outputs": []
    },    
    {
      "metadata": {
        "id": "ogEXXLqnnCTj",
        "colab_type": "text"
      },
      "cell_type": "markdown",
      "source": [
        "### Fit the LSTM Model"
      ]
    },
    {
      "metadata": {
        "id": "5TkGfVVSVakd",
        "colab_type": "code",
        "outputId": "439fd8b7-4f9e-4c9a-9729-0c295aaa1b6c",
        "colab": {
          "base_uri": "https://localhost:8080/",
          "height": 379
        }
      },
      "cell_type": "code",
      "source": [
        "\n",
        "# fit network\n",
        "history = my_model_NN.fit(train_xp, train_yp, epochs=10, batch_size=100, validation_data=(val_xp, val_yp), verbose=2, shuffle=False)\n"
      ],
      "execution_count": 0,
      "outputs": [
        {
          "output_type": "stream",
          "text": [
            "Train on 10000 samples, validate on 5000 samples\n",
            "Epoch 1/10\n",
            " - 36s - loss: 0.0842 - val_loss: 0.0290\n",
            "Epoch 2/10\n",
            " - 35s - loss: 0.0289 - val_loss: 0.0255\n",
            "Epoch 3/10\n",
            " - 35s - loss: 0.0256 - val_loss: 0.0235\n",
            "Epoch 4/10\n",
            " - 35s - loss: 0.0238 - val_loss: 0.0217\n",
            "Epoch 5/10\n",
            " - 35s - loss: 0.0208 - val_loss: 0.0206\n",
            "Epoch 6/10\n",
            " - 35s - loss: 0.0189 - val_loss: 0.0199\n",
            "Epoch 7/10\n",
            " - 35s - loss: 0.0175 - val_loss: 0.0180\n",
            "Epoch 8/10\n",
            " - 35s - loss: 0.0165 - val_loss: 0.0184\n",
            "Epoch 9/10\n",
            " - 35s - loss: 0.0157 - val_loss: 0.0166\n",
            "Epoch 10/10\n",
            " - 36s - loss: 0.0158 - val_loss: 0.0146\n"
          ],
          "name": "stdout"
        }
      ]
    },
    {
      "metadata": {
        "id": "Xh4r5rA3b8z5",
        "colab_type": "code",
        "outputId": "b68d5d0d-a09e-44fc-bd3a-7d0c0a0e50db",
        "colab": {
          "base_uri": "https://localhost:8080/",
          "height": 606
        }
      },
      "cell_type": "code",
      "source": [
        "my_model_NN.summary()\n",
        "\n",
        "\n",
        "# plot history\n",
        "pyplot.plot(history.history['loss'], label='train')\n",
        "pyplot.plot(history.history['val_loss'], label='val')\n",
        "#pyplot.ylim(0,0.08)\n",
        "pyplot.legend()\n",
        "pyplot.show()"
      ],
      "execution_count": 0,
      "outputs": [
        {
          "output_type": "stream",
          "text": [
            "_________________________________________________________________\n",
            "Layer (type)                 Output Shape              Param #   \n",
            "=================================================================\n",
            "dropout_4 (Dropout)          multiple                  0         \n",
            "_________________________________________________________________\n",
            "lstm_2 (LSTM)                multiple                  41600     \n",
            "_________________________________________________________________\n",
            "dropout_5 (Dropout)          multiple                  0         \n",
            "_________________________________________________________________\n",
            "dense_2 (Dense)              multiple                  303       \n",
            "=================================================================\n",
            "Total params: 41,903\n",
            "Trainable params: 41,903\n",
            "Non-trainable params: 0\n",
            "_________________________________________________________________\n"
          ],
          "name": "stdout"
        },
        {
          "output_type": "display_data",
          "data": {
            "image/png": "[encoded data removed]",
            "text/plain": [
              "<matplotlib.figure.Figure at 0x7fd0ab333eb8>"
            ]
          },
          "metadata": {
            "tags": []
          }
        }
      ]
    },
    {
      "metadata": {
        "id": "ABYL1rxeJojG",
        "colab_type": "code",
        "outputId": "bed63e89-89a5-49bf-9e82-1316b1b51ae4",
        "colab": {
          "base_uri": "https://localhost:8080/",
          "height": 34
        }
      },
      "cell_type": "code",
      "source": [
        "test_xp[0:1,:,:].shape"
      ],
      "execution_count": 0,
      "outputs": [
        {
          "output_type": "execute_result",
          "data": {
            "text/plain": [
              "(1, 100, 3)"
            ]
          },
          "metadata": {
            "tags": []
          },
          "execution_count": 28
        }
      ]
    },
    {
      "metadata": {
        "id": "vVC9OMiyT-fK",
        "colab_type": "code",
        "outputId": "52828d84-d531-494f-cc20-1f6121786c41",
        "colab": {
          "base_uri": "https://localhost:8080/",
          "height": 34
        }
      },
      "cell_type": "code",
      "source": [
        "test_xp[0:1,:,:].shape"
      ],
      "execution_count": 0,
      "outputs": [
        {
          "output_type": "execute_result",
          "data": {
            "text/plain": [
              "(1, 100, 3)"
            ]
          },
          "metadata": {
            "tags": []
          },
          "execution_count": 81
        }
      ]
    },
    {
      "metadata": {
        "id": "DXBxUrIYnPqd",
        "colab_type": "text"
      },
      "cell_type": "markdown",
      "source": [
        "### Predictions with the LSTM Model"
      ]
    },
    {
      "metadata": {
        "id": "HzTKAvW9UGoz",
        "colab_type": "code",
        "colab": {}
      },
      "cell_type": "code",
      "source": [
        "pred_yp = my_model_NN.predict(test_xp[0:1,:,:])"
      ],
      "execution_count": 0,
      "outputs": []
    },
    {
      "metadata": {
        "id": "GorsWQ53nUKN",
        "colab_type": "text"
      },
      "cell_type": "markdown",
      "source": [
        "### Visualize results of the LSTM"
      ]
    },
    {
      "metadata": {
        "id": "pcsAS19YUhaw",
        "colab_type": "code",
        "outputId": "57dc77ce-b057-421b-e09b-21aef661efd0",
        "colab": {
          "base_uri": "https://localhost:8080/",
          "height": 1019
        }
      },
      "cell_type": "code",
      "source": [
        "# plot history\n",
        "x_plot = np.append(test_yp[0][:,0], pred_yp[0][:,0])\n",
        "pyplot.plot(x_plot, label='X_pred', color='red', linestyle='dashed', linewidth=1.3)\n",
        "test_yp_x = np.append(test_yp[0][:,0], test_yp[100][:,0])\n",
        "pyplot.plot(test_yp_x, label='X_real')\n",
        "pyplot.ylim(0.2,0.6)\n",
        "pyplot.legend()\n",
        "pyplot.show()\n",
        "\n",
        "y_plot = np.append(test_yp[0][:,1], pred_yp[0][:,1])\n",
        "pyplot.plot(y_plot, label='Y_pred', color='red', linestyle='dashed', linewidth=1.3)\n",
        "test_yp_y = np.append(test_yp[0][:,1], test_yp[100][:,1])\n",
        "pyplot.plot(test_yp_y, label='Y_real')\n",
        "pyplot.ylim(0.0,1.0)\n",
        "pyplot.legend()\n",
        "pyplot.show()\n",
        "\n",
        "z_plot = np.append(test_yp[0][:,2], pred_yp[0][:,2])\n",
        "pyplot.plot(z_plot, label='Z_pred', color='red', linestyle='dashed', linewidth=1.3)\n",
        "test_yp_z = np.append(test_yp[0][:,2], test_yp[100][:,2])\n",
        "pyplot.plot(test_yp_z, label='Z_real')\n",
        "pyplot.ylim(0.0,1.0)\n",
        "pyplot.legend()\n",
        "pyplot.show()\n"
      ],
      "execution_count": 0,
      "outputs": [
        {
          "output_type": "display_data",
          "data": {
            "image/png": "[encoded data removed]",
            "text/plain": [
              "<matplotlib.figure.Figure at 0x7fd0aaa51860>"
            ]
          },
          "metadata": {
            "tags": []
          }
        },
        {
          "output_type": "display_data",
          "data": {
            "image/png": "[encoded data removed]",
            "text/plain": [
              "<matplotlib.figure.Figure at 0x7fd0aaab6a58>"
            ]
          },
          "metadata": {
            "tags": []
          }
        },
        {
          "output_type": "display_data",
          "data": {
            "image/png": "[encoded data removed]",
            "text/plain": [
              "<matplotlib.figure.Figure at 0x7fd0aabb4f98>"
            ]
          },
          "metadata": {
            "tags": []
          }
        }
      ]
    },
    {
      "metadata": {
        "id": "aj7vBRZ_hu7q",
        "colab_type": "code",
        "colab": {}
      },
      "cell_type": "code",
      "source": [
        "pred_yp = my_model_NN.predict(test_xp[25:26,:,:])"
      ],
      "execution_count": 0,
      "outputs": []
    },
    {
      "metadata": {
        "id": "DU8X0FMPh1nx",
        "colab_type": "code",
        "outputId": "23a9468c-3665-40ac-b43c-cdf7de120ede",
        "colab": {
          "base_uri": "https://localhost:8080/",
          "height": 1019
        }
      },
      "cell_type": "code",
      "source": [
        "start_index = 26\n",
        "# plot history\n",
        "x_plot = np.append(test_yp[start_index][:,0], pred_yp[0][:,0])\n",
        "pyplot.plot(x_plot, label='X_pred', color='red', linestyle='dashed', linewidth=1.3)\n",
        "test_yp_x = np.append(test_yp[start_index][:,0], test_yp[start_index+100][:,0])\n",
        "pyplot.plot(test_yp_x, label='X_real')\n",
        "pyplot.ylim(0.2,0.6)\n",
        "pyplot.legend()\n",
        "pyplot.show()\n",
        "\n",
        "y_plot = np.append(test_yp[start_index][:,1], pred_yp[0][:,1])\n",
        "pyplot.plot(y_plot, label='Y_pred', color='red', linestyle='dashed', linewidth=1.3)\n",
        "test_yp_y = np.append(test_yp[start_index][:,1], test_yp[start_index+100][:,1])\n",
        "pyplot.plot(test_yp_y, label='Y_real')\n",
        "pyplot.ylim(0.0,1.0)\n",
        "pyplot.legend()\n",
        "pyplot.show()\n",
        "\n",
        "z_plot = np.append(test_yp[start_index][:,2], pred_yp[0][:,2])\n",
        "pyplot.plot(z_plot, label='Z_pred', color='red', linestyle='dashed', linewidth=1.3)\n",
        "test_yp_z = np.append(test_yp[start_index][:,2], test_yp[start_index+100][:,2])\n",
        "pyplot.plot(test_yp_z, label='Z_real')\n",
        "pyplot.ylim(0.0,1.0)\n",
        "pyplot.legend()\n",
        "pyplot.show()\n"
      ],
      "execution_count": 0,
      "outputs": [
        {
          "output_type": "display_data",
          "data": {
            "image/png": "[encoded data removed]",
            "text/plain": [
              "<matplotlib.figure.Figure at 0x7fd0c59dac88>"
            ]
          },
          "metadata": {
            "tags": []
          }
        },
        {
          "output_type": "display_data",
          "data": {
            "image/png": "[encoded data removed]",
            "text/plain": [
              "<matplotlib.figure.Figure at 0x7fd0ab22a438>"
            ]
          },
          "metadata": {
            "tags": []
          }
        },
        {
          "output_type": "display_data",
          "data": {
            "image/png": "[encoded data removed]",
            "text/plain": [
              "<matplotlib.figure.Figure at 0x7fd0ab1b0fd0>"
            ]
          },
          "metadata": {
            "tags": []
          }
        }
      ]
    },
    {
      "metadata": {
        "id": "IVfpqCYQnn8N",
        "colab_type": "text"
      },
      "cell_type": "markdown",
      "source": [
        "## 8.5. Predicting  in base of a moving windowq including 100 measurements"
      ]
    },
    {
      "metadata": {
        "colab_type": "code",
        "outputId": "ee5eacd5-566e-4f73-ebb4-2229679d1115",
        "id": "y9T7rHYPJpJg",
        "colab": {
          "base_uri": "https://localhost:8080/",
          "height": 1951
        }
      },
      "cell_type": "code",
      "source": [
        "# Predicting  in base of a moving windowq including 100 measurements\n",
        "\n",
        "from math import sqrt\n",
        "from sklearn.metrics import mean_squared_error\n",
        "\n",
        "moving_y_pred = []\n",
        "number_steps =  100\n",
        "starting_step = 145\n",
        "\n",
        "# first window:\n",
        "pred_x = test_xp[number_steps:number_steps+1,:,:]\n",
        "\n",
        "for i in range(number_steps):\n",
        "  #prediction input:\n",
        "  pred_y = my_model_NN.predict(pred_x)\n",
        "  print(str(i)+\"/\"+str(number_steps)+\": \" + str(pred_y[0]))\n",
        "  pred_x = np.append(pred_x, pred_y[0].reshape(1,1,3), axis=1)\n",
        "  pred_x = np.delete(pred_x,0,1)\n",
        "  moving_y_pred.append(list(pred_y[0]))\n",
        "\n",
        "  \n",
        "pd_moving_y_pred = pd.DataFrame(moving_y_pred)\n",
        "pd_moving_y_pred.columns = (\"X\",\"Y\",\"Z\")\n",
        "\n",
        "print(pd_moving_y_pred.head())\n",
        "print(pd_moving_y_pred.tail())"
      ],
      "execution_count": 0,
      "outputs": [
        {
          "output_type": "stream",
          "text": [
            "0/100: [0.48562145 0.46946666 0.48614663]\n",
            "1/100: [0.48538733 0.46915314 0.48598567]\n",
            "2/100: [0.4849972  0.46874848 0.48576677]\n",
            "3/100: [0.48456168 0.46832237 0.48551938]\n",
            "4/100: [0.48413396 0.46790835 0.48526162]\n",
            "5/100: [0.48373726 0.46752182 0.48500454]\n",
            "6/100: [0.48337972 0.46716794 0.48475495]\n",
            "7/100: [0.4830621  0.46684715 0.48451665]\n",
            "8/100: [0.48278186 0.46655735 0.48429164]\n",
            "9/100: [0.48253524 0.4662957  0.48408082]\n",
            "10/100: [0.48231825 0.46605906 0.4838843 ]\n",
            "11/100: [0.48212707 0.46584454 0.48370185]\n",
            "12/100: [0.48195836 0.46564957 0.48353282]\n",
            "13/100: [0.48180908 0.46547183 0.48337644]\n",
            "14/100: [0.48167673 0.46530938 0.48323205]\n",
            "15/100: [0.4815591  0.46516064 0.48309883]\n",
            "16/100: [0.48145425 0.4650242  0.48297593]\n",
            "17/100: [0.48136058 0.46489877 0.4828626 ]\n",
            "18/100: [0.4812768  0.4647834  0.48275813]\n",
            "19/100: [0.4812017  0.46467713 0.48266187]\n",
            "20/100: [0.48113427 0.46457922 0.48257318]\n",
            "21/100: [0.48107356 0.46448895 0.4824915 ]\n",
            "22/100: [0.48101884 0.46440563 0.48241615]\n",
            "23/100: [0.48096952 0.46432877 0.48234677]\n",
            "24/100: [0.48092493 0.4642578  0.48228288]\n",
            "25/100: [0.48088467 0.4641923  0.482224  ]\n",
            "26/100: [0.48084816 0.4641319  0.48216975]\n",
            "27/100: [0.48081508 0.46407607 0.48211977]\n",
            "28/100: [0.48078513 0.46402457 0.48207372]\n",
            "29/100: [0.4807579  0.463977   0.48203132]\n",
            "30/100: [0.48073316 0.46393314 0.48199227]\n",
            "31/100: [0.48071063 0.46389267 0.48195627]\n",
            "32/100: [0.48069018 0.46385524 0.48192307]\n",
            "33/100: [0.48067153 0.46382073 0.48189256]\n",
            "34/100: [0.48065448 0.46378887 0.4818644 ]\n",
            "35/100: [0.480639   0.4637595  0.48183843]\n",
            "36/100: [0.4806249  0.4637324  0.48181456]\n",
            "37/100: [0.480612   0.46370736 0.48179254]\n",
            "38/100: [0.48060024 0.4636843  0.48177227]\n",
            "39/100: [0.48058945 0.46366304 0.4817536 ]\n",
            "40/100: [0.48057967 0.46364346 0.4817364 ]\n",
            "41/100: [0.48057064 0.46362528 0.4817205 ]\n",
            "42/100: [0.48056248 0.46360862 0.48170593]\n",
            "43/100: [0.48055494 0.4635932  0.48169246]\n",
            "44/100: [0.48054802 0.46357903 0.4816801 ]\n",
            "45/100: [0.48054177 0.46356595 0.48166865]\n",
            "46/100: [0.48053595 0.46355388 0.48165813]\n",
            "47/100: [0.48053068 0.46354276 0.48164847]\n",
            "48/100: [0.48052582 0.46353254 0.48163953]\n",
            "49/100: [0.48052138 0.4635231  0.4816313 ]\n",
            "50/100: [0.48051733 0.46351436 0.4816237 ]\n",
            "51/100: [0.48051357 0.46350637 0.48161677]\n",
            "52/100: [0.48051015 0.46349895 0.48161033]\n",
            "53/100: [0.48050696 0.46349213 0.48160443]\n",
            "54/100: [0.48050413 0.46348584 0.481599  ]\n",
            "55/100: [0.48050147 0.46348006 0.48159397]\n",
            "56/100: [0.48049903 0.46347472 0.48158935]\n",
            "57/100: [0.4804968  0.46346977 0.48158506]\n",
            "58/100: [0.48049474 0.46346524 0.48158115]\n",
            "59/100: [0.4804929  0.46346107 0.48157755]\n",
            "60/100: [0.4804911 0.4634572 0.4815742]\n",
            "61/100: [0.48048955 0.46345362 0.48157108]\n",
            "62/100: [0.48048806 0.46345037 0.4815683 ]\n",
            "63/100: [0.48048672 0.46344736 0.48156568]\n",
            "64/100: [0.4804855  0.46344462 0.4815633 ]\n",
            "65/100: [0.48048437 0.46344203 0.4815611 ]\n",
            "66/100: [0.48048332 0.4634397  0.48155904]\n",
            "67/100: [0.48048237 0.46343753 0.4815572 ]\n",
            "68/100: [0.48048148 0.4634355  0.48155543]\n",
            "69/100: [0.48048067 0.46343365 0.48155385]\n",
            "70/100: [0.4804799  0.46343198 0.4815524 ]\n",
            "71/100: [0.48047924 0.46343046 0.48155108]\n",
            "72/100: [0.48047858 0.46342897 0.48154977]\n",
            "73/100: [0.480478   0.46342766 0.48154864]\n",
            "74/100: [0.48047745 0.46342644 0.4815476 ]\n",
            "75/100: [0.48047698 0.4634253  0.4815466 ]\n",
            "76/100: [0.4804765  0.46342427 0.48154572]\n",
            "77/100: [0.48047608 0.46342328 0.4815449 ]\n",
            "78/100: [0.48047572 0.46342245 0.48154414]\n",
            "79/100: [0.48047534 0.4634216  0.48154345]\n",
            "80/100: [0.480475  0.4634209 0.4815428]\n",
            "81/100: [0.4804747  0.46342015 0.48154223]\n",
            "82/100: [0.48047447 0.46341953 0.48154166]\n",
            "83/100: [0.48047423 0.46341893 0.48154113]\n",
            "84/100: [0.480474   0.4634184  0.48154068]\n",
            "85/100: [0.48047376 0.4634179  0.48154026]\n",
            "86/100: [0.48047358 0.46341747 0.48153988]\n",
            "87/100: [0.48047334 0.46341705 0.48153952]\n",
            "88/100: [0.48047322 0.46341667 0.48153916]\n",
            "89/100: [0.480473   0.46341625 0.48153883]\n",
            "90/100: [0.48047286 0.46341595 0.48153856]\n",
            "91/100: [0.48047274 0.46341565 0.48153833]\n",
            "92/100: [0.48047262 0.46341535 0.4815381 ]\n",
            "93/100: [0.48047253 0.46341512 0.48153785]\n",
            "94/100: [0.48047242 0.46341488 0.4815376 ]\n",
            "95/100: [0.48047233 0.4634146  0.48153743]\n",
            "96/100: [0.4804722  0.46341443 0.48153725]\n",
            "97/100: [0.48047215 0.46341428 0.48153707]\n",
            "98/100: [0.48047206 0.46341407 0.48153695]\n",
            "99/100: [0.480472   0.46341392 0.48153684]\n",
            "          X         Y         Z\n",
            "0  0.485621  0.469467  0.486147\n",
            "1  0.485387  0.469153  0.485986\n",
            "2  0.484997  0.468748  0.485767\n",
            "3  0.484562  0.468322  0.485519\n",
            "4  0.484134  0.467908  0.485262\n",
            "           X         Y         Z\n",
            "95  0.480472  0.463415  0.481537\n",
            "96  0.480472  0.463414  0.481537\n",
            "97  0.480472  0.463414  0.481537\n",
            "98  0.480472  0.463414  0.481537\n",
            "99  0.480472  0.463414  0.481537\n"
          ],
          "name": "stdout"
        }
      ]
    },
    {
      "metadata": {
        "id": "iifQYiN1V6yU",
        "colab_type": "code",
        "outputId": "0ab5b407-6301-446c-b35f-c9d4cf671ce1",
        "colab": {
          "base_uri": "https://localhost:8080/",
          "height": 1019
        }
      },
      "cell_type": "code",
      "source": [
        "# plot history\n",
        "x_plot = np.append(test_yp[0:starting_step,0], pd_moving_y_pred.X[:])\n",
        "pyplot.plot(x_plot, label='X_pred', color='red', linestyle='dashed', linewidth=1.3)\n",
        "pyplot.plot(test_yp[0:starting_step+number_steps,0], label='X_real')\n",
        "pyplot.ylim(0.0,1.0)\n",
        "pyplot.legend()\n",
        "pyplot.show()\n",
        "\n",
        "y_plot = np.append(test_yp[0:starting_step,1], pd_moving_y_pred.Y[:])\n",
        "pyplot.plot(y_plot, label='Y_pred', color='red', linestyle='dashed', linewidth=1.3)\n",
        "pyplot.plot(test_yp[0:starting_step+number_steps,1], label='Y_real')\n",
        "pyplot.ylim(0.0,1.0)\n",
        "pyplot.legend()\n",
        "pyplot.show()\n",
        "\n",
        "z_plot = np.append(test_yp[0:starting_step,2], pd_moving_y_pred.Z[:])\n",
        "pyplot.plot(z_plot, label='Z_pred', color='red', linestyle='dashed', linewidth=1.3)\n",
        "pyplot.plot(test_yp[0:starting_step+number_steps,2], label='Z_real')\n",
        "pyplot.ylim(0.0,1.0)\n",
        "pyplot.legend()\n",
        "pyplot.show()"
      ],
      "execution_count": 0,
      "outputs": [
        {
          "output_type": "display_data",
          "data": {
            "image/png": "[encoded data removed]",
            "text/plain": [
              "<matplotlib.figure.Figure at 0x7f5d198b5a20>"
            ]
          },
          "metadata": {
            "tags": []
          }
        },
        {
          "output_type": "display_data",
          "data": {
            "image/png": "[encoded data removed]",
            "text/plain": [
              "<matplotlib.figure.Figure at 0x7f5d191b20b8>"
            ]
          },
          "metadata": {
            "tags": []
          }
        },
        {
          "output_type": "display_data",
          "data": {
            "image/png": "[encoded data removed]",
            "text/plain": [
              "<matplotlib.figure.Figure at 0x7f5d19196c88>"
            ]
          },
          "metadata": {
            "tags": []
          }
        }
      ]
    },
    {
      "metadata": {
        "id": "YSk8DESNoOw1",
        "colab_type": "text"
      },
      "cell_type": "markdown",
      "source": [
        "## 8.6. Evaluate performance using RMSE Metrics"
      ]
    },
    {
      "metadata": {
        "id": "ELSNkhk7ZvCg",
        "colab_type": "code",
        "outputId": "5e047aea-49cc-40a9-ab06-beff3726c775",
        "colab": {
          "base_uri": "https://localhost:8080/",
          "height": 68
        }
      },
      "cell_type": "code",
      "source": [
        "from math import sqrt\n",
        "from sklearn.metrics import mean_squared_error\n",
        "\n",
        "# calculate RMSE\n",
        "rmse = sqrt(mean_squared_error(pd_moving_y_pred.X, test_yp[starting_step:starting_step+number_steps,0]))\n",
        "print('X Test RMSE: %.3f' % rmse)\n",
        "rmse = sqrt(mean_squared_error(pd_moving_y_pred.Y, test_yp[starting_step:starting_step+number_steps,1]))\n",
        "print('Y Test RMSE: %.3f' % rmse)\n",
        "rmse = sqrt(mean_squared_error(pd_moving_y_pred.Z, test_yp[starting_step:starting_step+number_steps,2]))\n",
        "print('Z Test RMSE: %.3f' % rmse)"
      ],
      "execution_count": 0,
      "outputs": [
        {
          "output_type": "stream",
          "text": [
            "X Test RMSE: 0.039\n",
            "Y Test RMSE: 0.093\n",
            "Z Test RMSE: 0.031\n"
          ],
          "name": "stdout"
        }
      ]
    },
    {
      "metadata": {
        "id": "yAhMSS5LVJ4h",
        "colab_type": "code",
        "outputId": "4706413f-3796-4a14-d826-6992bc345376",
        "colab": {
          "base_uri": "https://localhost:8080/",
          "height": 8721
        }
      },
      "cell_type": "code",
      "source": [
        "# Predicting in base of a sliding window of 100 measurements\n",
        "\n",
        "from math import sqrt\n",
        "from sklearn.metrics import mean_squared_error\n",
        "\n",
        "moving_y_pred = []\n",
        "number_steps =  500\n",
        "\n",
        "for i in range(number_steps):\n",
        "  #prediction input:\n",
        "  pred_x = test_xp[i:i+1,:,:]\n",
        "  pred_y = my_model_NN.predict(pred_x)\n",
        "  print(str(i)+\"/\"+str(number_steps)+\": \" + str(pred_y[0]))\n",
        "  \n",
        "  moving_y_pred.append(list(pred_y[0]))\n",
        "\n",
        "pd_moving_y_pred = pd.DataFrame(moving_y_pred)\n",
        "pd_moving_y_pred.columns = (\"X\",\"Y\",\"Z\")\n",
        "\n",
        "print(pd_moving_y_pred.head())\n",
        "print(pd_moving_y_pred.tail())"
      ],
      "execution_count": 0,
      "outputs": [
        {
          "output_type": "stream",
          "text": [
            "0/500: [0.500721   0.46555546 0.47585866]\n",
            "1/500: [0.5010144  0.46558362 0.47593427]\n",
            "2/500: [0.5013143  0.46563467 0.4760105 ]\n",
            "3/500: [0.50156647 0.46563098 0.47605005]\n",
            "4/500: [0.50182986 0.46561137 0.47607353]\n",
            "5/500: [0.5021232  0.46561176 0.47615626]\n",
            "6/500: [0.50234616 0.46561489 0.47621515]\n",
            "7/500: [0.502501   0.46565187 0.47628775]\n",
            "8/500: [0.5024949  0.46542957 0.47623065]\n",
            "9/500: [0.5026067  0.46551076 0.4763074 ]\n",
            "10/500: [0.50264883 0.46551406 0.47634757]\n",
            "11/500: [0.50264126 0.46549064 0.4763605 ]\n",
            "12/500: [0.50248134 0.46542338 0.47626033]\n",
            "13/500: [0.50229967 0.46529624 0.47617015]\n",
            "14/500: [0.5020417  0.46519193 0.47601095]\n",
            "15/500: [0.50170195 0.46507978 0.47579136]\n",
            "16/500: [0.50132316 0.46491262 0.47552058]\n",
            "17/500: [0.50104684 0.4647984  0.47526544]\n",
            "18/500: [0.50080013 0.4646366  0.4750069 ]\n",
            "19/500: [0.5006613  0.46449238 0.47480977]\n",
            "20/500: [0.50059044 0.4643608  0.4746376 ]\n",
            "21/500: [0.500622   0.46424964 0.47451252]\n",
            "22/500: [0.5006983  0.46417472 0.474409  ]\n",
            "23/500: [0.5008813 0.464119  0.4743776]\n",
            "24/500: [0.50112486 0.46411303 0.47440338]\n",
            "25/500: [0.5014421  0.4641436  0.47447264]\n",
            "26/500: [0.5017572  0.46417236 0.4745307 ]\n",
            "27/500: [0.5019579 0.4642233 0.4745054]\n",
            "28/500: [0.5021723  0.464259   0.47450987]\n",
            "29/500: [0.502379   0.46432924 0.47457984]\n",
            "30/500: [0.502491   0.4644018  0.47468358]\n",
            "31/500: [0.5024928  0.46447042 0.47473973]\n",
            "32/500: [0.50240594 0.4645166  0.4747525 ]\n",
            "33/500: [0.5023298  0.46452594 0.4748312 ]\n",
            "34/500: [0.5021532  0.46453866 0.47486117]\n",
            "35/500: [0.50196916 0.464513   0.4748602 ]\n",
            "36/500: [0.5017335  0.46453407 0.47483373]\n",
            "37/500: [0.50151706 0.46459803 0.47482327]\n",
            "38/500: [0.5013802  0.46465558 0.47488394]\n",
            "39/500: [0.50127846 0.46474952 0.47491226]\n",
            "40/500: [0.501179   0.46480694 0.4748995 ]\n",
            "41/500: [0.5011166  0.46484742 0.47490153]\n",
            "42/500: [0.5010515 0.4648877 0.4748739]\n",
            "43/500: [0.50096565 0.46493784 0.4747889 ]\n",
            "44/500: [0.5007927  0.46496096 0.4746528 ]\n",
            "45/500: [0.5005763  0.46496883 0.4745348 ]\n",
            "46/500: [0.5002995 0.4649574 0.4743833]\n",
            "47/500: [0.50000197 0.4648913  0.47424015]\n",
            "48/500: [0.49976587 0.46472088 0.47408658]\n",
            "49/500: [0.49960557 0.4646351  0.47400442]\n",
            "50/500: [0.499403   0.46454045 0.47392637]\n",
            "51/500: [0.49920994 0.46439815 0.4738958 ]\n",
            "52/500: [0.4990865  0.46426347 0.47388962]\n",
            "53/500: [0.4989469  0.46414456 0.47384492]\n",
            "54/500: [0.49890727 0.46406403 0.47383463]\n",
            "55/500: [0.49898767 0.4640334  0.4738688 ]\n",
            "56/500: [0.4991477  0.46406528 0.4738863 ]\n",
            "57/500: [0.49930766 0.4641506  0.47390255]\n",
            "58/500: [0.49953973 0.46422404 0.47392318]\n",
            "59/500: [0.49992478 0.4642929  0.47399002]\n",
            "60/500: [0.50028944 0.46443462 0.47402155]\n",
            "61/500: [0.50070864 0.46459267 0.4740782 ]\n",
            "62/500: [0.50122964 0.46467337 0.4741914 ]\n",
            "63/500: [0.5017367  0.46485665 0.47437182]\n",
            "64/500: [0.50223917 0.46507922 0.47452268]\n",
            "65/500: [0.5028074  0.4653449  0.47479105]\n",
            "66/500: [0.5031582  0.46550742 0.4749479 ]\n",
            "67/500: [0.5033719  0.46556196 0.4750966 ]\n",
            "68/500: [0.5035479  0.46542418 0.47522745]\n",
            "69/500: [0.5034421  0.46521047 0.47523057]\n",
            "70/500: [0.50312424 0.46484914 0.47517028]\n",
            "71/500: [0.5027476  0.46456233 0.47514716]\n",
            "72/500: [0.5022316  0.46415752 0.47503248]\n",
            "73/500: [0.5015519  0.46389818 0.4749231 ]\n",
            "74/500: [0.5007509  0.46357968 0.4747601 ]\n",
            "75/500: [0.49975753 0.4634692  0.4744746 ]\n",
            "76/500: [0.49869755 0.46341267 0.4741259 ]\n",
            "77/500: [0.49782902 0.46345827 0.47379366]\n",
            "78/500: [0.49701077 0.4633768  0.4733439 ]\n",
            "79/500: [0.49655715 0.46351233 0.47304317]\n",
            "80/500: [0.49636924 0.46351132 0.4726983 ]\n",
            "81/500: [0.49661562 0.46365175 0.4725519 ]\n",
            "82/500: [0.49711102 0.46383348 0.47252157]\n",
            "83/500: [0.49764222 0.46398368 0.47251317]\n",
            "84/500: [0.49817008 0.46418253 0.47264346]\n",
            "85/500: [0.49865595 0.46448585 0.4728936 ]\n",
            "86/500: [0.4989791  0.46483296 0.4732031 ]\n",
            "87/500: [0.49914634 0.46515676 0.47349524]\n",
            "88/500: [0.4991947  0.46563873 0.47380173]\n",
            "89/500: [0.49906343 0.46601316 0.47396868]\n",
            "90/500: [0.49849796 0.46648976 0.47399756]\n",
            "91/500: [0.49775025 0.46686426 0.47389194]\n",
            "92/500: [0.49700174 0.46717608 0.4737309 ]\n",
            "93/500: [0.4962861  0.46727616 0.47352865]\n",
            "94/500: [0.49548656 0.46727407 0.47323063]\n",
            "95/500: [0.4950199 0.4672121 0.4730229]\n",
            "96/500: [0.49477774 0.46706304 0.47283086]\n",
            "97/500: [0.49482664 0.46683687 0.4727003 ]\n",
            "98/500: [0.4951387  0.46657425 0.47263306]\n",
            "99/500: [0.49589044 0.4664372  0.47280186]\n",
            "100/500: [0.49682403 0.46646583 0.47312152]\n",
            "101/500: [0.49781772 0.466763   0.47358057]\n",
            "102/500: [0.49862912 0.46733508 0.4740795 ]\n",
            "103/500: [0.49925047 0.4679884  0.4746736 ]\n",
            "104/500: [0.49956018 0.46862948 0.47513166]\n",
            "105/500: [0.49948052 0.46919152 0.47535858]\n",
            "106/500: [0.49924487 0.46952966 0.47553697]\n",
            "107/500: [0.4987434  0.46973905 0.47557777]\n",
            "108/500: [0.49806392 0.46977141 0.47552973]\n",
            "109/500: [0.49726498 0.46957073 0.47537115]\n",
            "110/500: [0.49644583 0.46937904 0.47510138]\n",
            "111/500: [0.49575308 0.46909705 0.47486588]\n",
            "112/500: [0.49533123 0.4687481  0.4746728 ]\n",
            "113/500: [0.49538234 0.46843335 0.47465092]\n",
            "114/500: [0.49533778 0.4683231  0.4746626 ]\n",
            "115/500: [0.49534476 0.4682711  0.4748461 ]\n",
            "116/500: [0.49569947 0.4680959  0.47516868]\n",
            "117/500: [0.4963969  0.46789667 0.47564313]\n",
            "118/500: [0.49760535 0.4676743  0.47637072]\n",
            "119/500: [0.49897802 0.4675968  0.47713652]\n",
            "120/500: [0.50051457 0.46763626 0.47805813]\n",
            "121/500: [0.50195396 0.4676744  0.47899285]\n",
            "122/500: [0.5031988  0.46765667 0.4798207 ]\n",
            "123/500: [0.5043841  0.46748802 0.48051062]\n",
            "124/500: [0.5051027  0.4673     0.48083654]\n",
            "125/500: [0.5058269  0.46679407 0.4806605 ]\n",
            "126/500: [0.5062464 0.4665269 0.4799854]\n",
            "127/500: [0.5071187  0.46624675 0.47966236]\n",
            "128/500: [0.5082899  0.46600214 0.47983244]\n",
            "129/500: [0.51003397 0.46580407 0.4809982 ]\n",
            "130/500: [0.5123532  0.46576056 0.48306647]\n",
            "131/500: [0.51486737 0.46582314 0.4854124 ]\n",
            "132/500: [0.5169483  0.46634665 0.48732784]\n",
            "133/500: [0.5183432 0.4672928 0.4883733]\n",
            "134/500: [0.5187212  0.46878323 0.48859757]\n",
            "135/500: [0.5188497  0.47044215 0.4883702 ]\n",
            "136/500: [0.51905924 0.47214484 0.48803124]\n",
            "137/500: [0.5196731  0.4738665  0.48787296]\n",
            "138/500: [0.5210302  0.47562817 0.48816818]\n",
            "139/500: [0.5230592  0.477585   0.48895493]\n",
            "140/500: [0.52578944 0.4803112  0.4903377 ]\n",
            "141/500: [0.54215866 0.48950857 0.4969185 ]\n",
            "142/500: [0.5403829  0.4980197  0.49479663]\n",
            "143/500: [0.54231036 0.50504947 0.494482  ]\n",
            "144/500: [0.5463755  0.51256263 0.49491906]\n",
            "145/500: [0.548319   0.5188175  0.49443752]\n",
            "146/500: [0.5411084  0.5213809  0.48931596]\n",
            "147/500: [0.5325616  0.5194432  0.48353997]\n",
            "148/500: [0.5284899  0.51329714 0.4788563 ]\n",
            "149/500: [0.5278949  0.504052   0.47551003]\n",
            "150/500: [0.5272369  0.49340993 0.47181746]\n",
            "151/500: [0.52546483 0.48328498 0.46771023]\n",
            "152/500: [0.5341399  0.4757091  0.47049946]\n",
            "153/500: [0.53715783 0.4718229  0.47123006]\n",
            "154/500: [0.53959185 0.4707338  0.47295815]\n",
            "155/500: [0.5358377  0.4701298  0.47325835]\n",
            "156/500: [0.5303976  0.46927643 0.47399297]\n",
            "157/500: [0.5270565  0.46785498 0.47559723]\n",
            "158/500: [0.52525747 0.4665741  0.47735772]\n",
            "159/500: [0.5236319  0.46505448 0.47930044]\n",
            "160/500: [0.5224285  0.46508622 0.48061362]\n",
            "161/500: [0.52204883 0.46550268 0.48232654]\n",
            "162/500: [0.5226194  0.46729738 0.4844792 ]\n",
            "163/500: [0.5227271  0.47014216 0.48680514]\n",
            "164/500: [0.52216506 0.47390723 0.48885998]\n",
            "165/500: [0.5206189  0.47814462 0.4903748 ]\n",
            "166/500: [0.5187833  0.4827185  0.49170902]\n",
            "167/500: [0.5165448  0.4875527  0.49280086]\n",
            "168/500: [0.5142455  0.49192318 0.49337295]\n",
            "169/500: [0.51160556 0.49525514 0.49329194]\n",
            "170/500: [0.50937563 0.49743074 0.49279   ]\n",
            "171/500: [0.50779736 0.4979922  0.49214163]\n",
            "172/500: [0.5072951  0.49704236 0.49165705]\n",
            "173/500: [0.5074033  0.4950466  0.49111256]\n",
            "174/500: [0.50782704 0.49284777 0.49042025]\n",
            "175/500: [0.50842434 0.49073753 0.48977175]\n",
            "176/500: [0.5091649  0.48901853 0.4891748 ]\n",
            "177/500: [0.5096546  0.4872791  0.48863184]\n",
            "178/500: [0.51051044 0.48597813 0.4884815 ]\n",
            "179/500: [0.511773  0.4853635 0.4885408]\n",
            "180/500: [0.51247394 0.48508635 0.48854965]\n",
            "181/500: [0.5134429  0.4852892  0.48869616]\n",
            "182/500: [0.51416945 0.48602584 0.4888305 ]\n",
            "183/500: [0.51443094 0.48693696 0.48873433]\n",
            "184/500: [0.51287687 0.48746955 0.4880063 ]\n",
            "185/500: [0.51160365 0.48752537 0.48741454]\n",
            "186/500: [0.5110707  0.48723868 0.48700896]\n",
            "187/500: [0.5108149  0.48712754 0.48665804]\n",
            "188/500: [0.51031256 0.48726025 0.4862261 ]\n",
            "189/500: [0.5098079  0.48704934 0.48558906]\n",
            "190/500: [0.5092648  0.4870771  0.48499414]\n",
            "191/500: [0.5088852  0.4867405  0.48441827]\n",
            "192/500: [0.50853086 0.4863255  0.4838749 ]\n",
            "193/500: [0.50848573 0.4856716  0.48349866]\n",
            "194/500: [0.5089991  0.4857467  0.48340386]\n",
            "195/500: [0.5094047  0.48573795 0.48340523]\n",
            "196/500: [0.50952715 0.48576385 0.4832467 ]\n",
            "197/500: [0.5095949  0.48543146 0.48302838]\n",
            "198/500: [0.50895184 0.48499233 0.48252824]\n",
            "199/500: [0.5087923  0.48471835 0.48225743]\n",
            "200/500: [0.50829715 0.48470655 0.4819745 ]\n",
            "201/500: [0.5080592  0.48426345 0.4818945 ]\n",
            "202/500: [0.5077974  0.4840391  0.48176482]\n",
            "203/500: [0.5074532  0.48379633 0.48162922]\n",
            "204/500: [0.50735646 0.4836069  0.48165646]\n",
            "205/500: [0.5070552  0.48337516 0.48161277]\n",
            "206/500: [0.5066147  0.48314002 0.4814231 ]\n",
            "207/500: [0.50603724 0.48269626 0.4813137 ]\n",
            "208/500: [0.5064029  0.4831941  0.48154607]\n",
            "209/500: [0.50608045 0.48369244 0.48153993]\n",
            "210/500: [0.5058061  0.48409435 0.481497  ]\n",
            "211/500: [0.5056374 0.4843511 0.4814158]\n",
            "212/500: [0.50540626 0.4841505  0.48123634]\n",
            "213/500: [0.505261   0.48401043 0.48102134]\n",
            "214/500: [0.5052689  0.48388174 0.4809051 ]\n",
            "215/500: [0.50526977 0.48402575 0.4808105 ]\n",
            "216/500: [0.50519234 0.48421952 0.48072785]\n",
            "217/500: [0.5048667  0.484321   0.48058006]\n",
            "218/500: [0.5042417  0.48412186 0.48022607]\n",
            "219/500: [0.503793  0.483966  0.4799674]\n",
            "220/500: [0.50369656 0.48387834 0.47982058]\n",
            "221/500: [0.5030819  0.48407122 0.47952372]\n",
            "222/500: [0.5027099  0.48422134 0.47938946]\n",
            "223/500: [0.5030047  0.48463926 0.4795119 ]\n",
            "224/500: [0.5033094  0.48501942 0.47963032]\n",
            "225/500: [0.5038495  0.4856375  0.47975972]\n",
            "226/500: [0.5058104  0.48847553 0.48059812]\n",
            "227/500: [0.5070367  0.490568   0.48118144]\n",
            "228/500: [0.5041824  0.4899632  0.47981328]\n",
            "229/500: [0.5008061  0.4867026  0.47820678]\n",
            "230/500: [0.5011844 0.4849066 0.4780134]\n",
            "231/500: [0.50175273 0.48358762 0.47795537]\n",
            "232/500: [0.50165224 0.48192537 0.47793546]\n",
            "233/500: [0.5015626  0.47945175 0.47791138]\n",
            "234/500: [0.50170296 0.4775424  0.4777363 ]\n",
            "235/500: [0.50192827 0.4764416  0.47755262]\n",
            "236/500: [0.501598   0.47587043 0.47725502]\n",
            "237/500: [0.5010343  0.47576734 0.47707948]\n",
            "238/500: [0.50092256 0.47599104 0.47726697]\n",
            "239/500: [0.50088274 0.47623476 0.47764644]\n",
            "240/500: [0.5019142 0.4773905 0.4784107]\n",
            "241/500: [0.5031838  0.47892085 0.47939768]\n",
            "242/500: [0.50486016 0.48039642 0.4806206 ]\n",
            "243/500: [0.5059256  0.48201212 0.48159337]\n",
            "244/500: [0.5062338 0.4832604 0.4821043]\n",
            "245/500: [0.50631636 0.4839988  0.48242834]\n",
            "246/500: [0.50615245 0.48434973 0.48246512]\n",
            "247/500: [0.5058191 0.4840886 0.4822619]\n",
            "248/500: [0.5054405 0.4838488 0.4819127]\n",
            "249/500: [0.5049639  0.48341674 0.48152244]\n",
            "250/500: [0.5044447  0.48282614 0.48106214]\n",
            "251/500: [0.5036156  0.48211792 0.48035845]\n",
            "252/500: [0.50311065 0.4813399  0.47983077]\n",
            "253/500: [0.5025977  0.48059863 0.47927144]\n",
            "254/500: [0.50246453 0.48026222 0.47905198]\n",
            "255/500: [0.5023042  0.48007354 0.47880992]\n",
            "256/500: [0.5022105  0.4798294  0.47856727]\n",
            "257/500: [0.5022729  0.47986272 0.47859016]\n",
            "258/500: [0.50220305 0.47984824 0.47849932]\n",
            "259/500: [0.5021301  0.4798637  0.47838682]\n",
            "260/500: [0.50199646 0.47989786 0.47824508]\n",
            "261/500: [0.5019326  0.47994062 0.47808602]\n",
            "262/500: [0.5016213 0.4798381 0.4777477]\n",
            "263/500: [0.50149053 0.47961733 0.47747752]\n",
            "264/500: [0.5014124  0.47951314 0.47721833]\n",
            "265/500: [0.5012912  0.47931805 0.4769647 ]\n",
            "266/500: [0.5012336  0.4791042  0.47675458]\n",
            "267/500: [0.5010213 0.478954  0.4764725]\n",
            "268/500: [0.5008587  0.47849342 0.47625422]\n",
            "269/500: [0.50077087 0.47818843 0.47597113]\n",
            "270/500: [0.5008696  0.47793308 0.47577673]\n",
            "271/500: [0.5010604  0.47772208 0.47565004]\n",
            "272/500: [0.5010469  0.47753325 0.47546226]\n",
            "273/500: [0.5010914  0.4772373  0.47521207]\n",
            "274/500: [0.5012993  0.47706923 0.47507635]\n",
            "275/500: [0.5014537  0.47706077 0.47513938]\n",
            "276/500: [0.5016733  0.4769975  0.47507742]\n",
            "277/500: [0.501465   0.47687247 0.47467634]\n",
            "278/500: [0.50113755 0.4767796  0.47431526]\n",
            "279/500: [0.50080234 0.47660458 0.4739272 ]\n",
            "280/500: [0.5005404 0.4764439 0.4736388]\n",
            "281/500: [0.5004625  0.47630534 0.4736649 ]\n",
            "282/500: [0.5005234 0.4762919 0.4738904]\n",
            "283/500: [0.5007578  0.47658598 0.47434714]\n",
            "284/500: [0.50102985 0.47710675 0.47495857]\n",
            "285/500: [0.5016213  0.47745192 0.47575286]\n",
            "286/500: [0.5020716  0.47778237 0.476467  ]\n",
            "287/500: [0.50245273 0.47807384 0.47710314]\n",
            "288/500: [0.50284463 0.4781903  0.4776352 ]\n",
            "289/500: [0.503258  0.4783497 0.478079 ]\n",
            "290/500: [0.5035378  0.4786118  0.47842744]\n",
            "291/500: [0.50364643 0.47880128 0.47860637]\n",
            "292/500: [0.50355154 0.47886634 0.47859278]\n",
            "293/500: [0.50337994 0.47883266 0.4784504 ]\n",
            "294/500: [0.5032179  0.47879493 0.4782363 ]\n",
            "295/500: [0.50308114 0.47877482 0.47803184]\n",
            "296/500: [0.5029586  0.47872046 0.47778946]\n",
            "297/500: [0.5028798  0.4786833  0.47759405]\n",
            "298/500: [0.5028915  0.47854325 0.4775137 ]\n",
            "299/500: [0.50293434 0.47845125 0.47745368]\n",
            "300/500: [0.5029766  0.47839996 0.47745577]\n",
            "301/500: [0.50311905 0.47830483 0.4775767 ]\n",
            "302/500: [0.50322527 0.47826588 0.47767937]\n",
            "303/500: [0.5033689  0.47825226 0.47783744]\n",
            "304/500: [0.50344735 0.47830275 0.47802263]\n",
            "305/500: [0.5034962  0.4783381  0.47814152]\n",
            "306/500: [0.5035281  0.47838345 0.4782343 ]\n",
            "307/500: [0.5035745  0.4783819  0.47831842]\n",
            "308/500: [0.5035837  0.4783446  0.47835368]\n",
            "309/500: [0.5034974  0.47834623 0.47822312]\n",
            "310/500: [0.50343615 0.4782482  0.47817394]\n",
            "311/500: [0.50340647 0.47816053 0.4781362 ]\n",
            "312/500: [0.50340176 0.47810665 0.4781228 ]\n",
            "313/500: [0.50342673 0.47808096 0.47809848]\n",
            "314/500: [0.503338  0.4780877 0.4779999]\n",
            "315/500: [0.5033184  0.4780831  0.47795248]\n",
            "316/500: [0.50321424 0.4780907  0.4778774 ]\n",
            "317/500: [0.5031161 0.4781015 0.4777886]\n",
            "318/500: [0.5030652  0.4781671  0.47775403]\n",
            "319/500: [0.50303394 0.47827187 0.47770998]\n",
            "320/500: [0.50299335 0.47844934 0.47770682]\n",
            "321/500: [0.5029376  0.47854742 0.47765288]\n",
            "322/500: [0.5028364 0.4785854 0.4775538]\n",
            "323/500: [0.5028445  0.47861525 0.47756055]\n",
            "324/500: [0.50279915 0.4786314  0.4774902 ]\n",
            "325/500: [0.5028276  0.47867656 0.4774762 ]\n",
            "326/500: [0.5028004  0.47870764 0.47738126]\n",
            "327/500: [0.5028235  0.47872815 0.47734508]\n",
            "328/500: [0.5027823  0.47876027 0.47729245]\n",
            "329/500: [0.5027984  0.47876927 0.4772919 ]\n",
            "330/500: [0.5028711  0.47874928 0.47733098]\n",
            "331/500: [0.50291556 0.47875997 0.47735658]\n",
            "332/500: [0.5029596  0.47875044 0.47739413]\n",
            "333/500: [0.50298357 0.47873554 0.4774347 ]\n",
            "334/500: [0.5029299  0.47877252 0.47746244]\n",
            "335/500: [0.5029224  0.47876796 0.47751266]\n",
            "336/500: [0.5029523  0.47872365 0.47756216]\n",
            "337/500: [0.50296915 0.47872937 0.47758815]\n",
            "338/500: [0.50298166 0.47876248 0.47762153]\n",
            "339/500: [0.50302905 0.47879282 0.47769356]\n",
            "340/500: [0.5030819  0.47882223 0.47777438]\n",
            "341/500: [0.50309354 0.478865   0.47782674]\n",
            "342/500: [0.5017262  0.47590593 0.47740644]\n",
            "343/500: [0.50054854 0.47274336 0.4767588 ]\n",
            "344/500: [0.49960247 0.46970677 0.4760517 ]\n",
            "345/500: [0.49889383 0.46700552 0.47536346]\n",
            "346/500: [0.49848878 0.46477103 0.47477627]\n",
            "347/500: [0.4984146  0.46299034 0.47442907]\n",
            "348/500: [0.4984742  0.46161944 0.4742002 ]\n",
            "349/500: [0.49859825 0.46056467 0.47402903]\n",
            "350/500: [0.49874234 0.45987546 0.47393972]\n",
            "351/500: [0.4988398  0.4594114  0.47383198]\n",
            "352/500: [0.49900752 0.45916387 0.47386655]\n",
            "353/500: [0.4991254  0.4590056  0.47388074]\n",
            "354/500: [0.4991812  0.45898443 0.47387615]\n",
            "355/500: [0.4992422  0.4589523  0.47390994]\n",
            "356/500: [0.49931568 0.45897022 0.47396454]\n",
            "357/500: [0.49936002 0.45896044 0.4740008 ]\n",
            "358/500: [0.4993804  0.45894757 0.47403687]\n",
            "359/500: [0.49927962 0.4589598  0.4739788 ]\n",
            "360/500: [0.49913985 0.45894194 0.4738603 ]\n",
            "361/500: [0.49899137 0.4589568  0.47375163]\n",
            "362/500: [0.49884558 0.45896256 0.47367695]\n",
            "363/500: [0.49868608 0.45896363 0.47358328]\n",
            "364/500: [0.49861905 0.45896736 0.47356778]\n",
            "365/500: [0.49853116 0.45897886 0.47351852]\n",
            "366/500: [0.49847072 0.45901594 0.4735039 ]\n",
            "367/500: [0.49845657 0.45912677 0.4735411 ]\n",
            "368/500: [0.49847564 0.45921955 0.4735909 ]\n",
            "369/500: [0.49853364 0.4593485  0.47367418]\n",
            "370/500: [0.49863708 0.45950052 0.47379848]\n",
            "371/500: [0.49875492 0.45965573 0.47391555]\n",
            "372/500: [0.49884152 0.45976427 0.47400382]\n",
            "373/500: [0.49896705 0.4598714  0.4741117 ]\n",
            "374/500: [0.49901325 0.45995182 0.4741254 ]\n",
            "375/500: [0.49902946 0.45991746 0.4741233 ]\n",
            "376/500: [0.4990552  0.45988932 0.47411153]\n",
            "377/500: [0.49901915 0.4598392  0.474058  ]\n",
            "378/500: [0.49902892 0.4597768  0.47402886]\n",
            "379/500: [0.49903995 0.45968515 0.4739869 ]\n",
            "380/500: [0.4990367  0.45963815 0.4739212 ]\n",
            "381/500: [0.4990695  0.4595827  0.47391263]\n",
            "382/500: [0.4990822  0.4595483  0.47388336]\n",
            "383/500: [0.4990614  0.45950642 0.47383195]\n",
            "384/500: [0.49902993 0.45947257 0.47376987]\n",
            "385/500: [0.49900454 0.45947188 0.47371775]\n",
            "386/500: [0.4989966  0.45946798 0.47369608]\n",
            "387/500: [0.4989712  0.45951533 0.47367856]\n",
            "388/500: [0.49897623 0.45953783 0.47367573]\n",
            "389/500: [0.49896085 0.4596282  0.47370484]\n",
            "390/500: [0.49897778 0.4596535  0.47373036]\n",
            "391/500: [0.49896604 0.45974702 0.4737182 ]\n",
            "392/500: [0.49894387 0.45983806 0.4737012 ]\n",
            "393/500: [0.49895245 0.45992973 0.47371638]\n",
            "394/500: [0.49894845 0.46000037 0.47371897]\n",
            "395/500: [0.49895537 0.46006244 0.47371146]\n",
            "396/500: [0.49898237 0.46008062 0.47371897]\n",
            "397/500: [0.49899513 0.4601436  0.47375342]\n",
            "398/500: [0.4989881  0.4601724  0.47376293]\n",
            "399/500: [0.498959  0.4602219 0.473753 ]\n",
            "400/500: [0.49892378 0.4603016  0.47373584]\n",
            "401/500: [0.49885857 0.4603446  0.47368366]\n",
            "402/500: [0.49882323 0.46040457 0.47365054]\n",
            "403/500: [0.49879467 0.4604641  0.4736121 ]\n",
            "404/500: [0.49876267 0.46053398 0.473568  ]\n",
            "405/500: [0.49879414 0.46062264 0.4735979 ]\n",
            "406/500: [0.49885768 0.46070507 0.4736662 ]\n",
            "407/500: [0.4989651  0.46076864 0.47373798]\n",
            "408/500: [0.49901682 0.4608619  0.4737768 ]\n",
            "409/500: [0.49907243 0.4609176  0.47382608]\n",
            "410/500: [0.49912015 0.46098974 0.4738952 ]\n",
            "411/500: [0.49909443 0.46100083 0.473893  ]\n",
            "412/500: [0.4990638  0.4609966  0.47386608]\n",
            "413/500: [0.49897143 0.46093395 0.47375068]\n",
            "414/500: [0.49888664 0.46084413 0.4736796 ]\n",
            "415/500: [0.49880892 0.46073374 0.47358093]\n",
            "416/500: [0.49873513 0.4606391  0.4734841 ]\n",
            "417/500: [0.49858722 0.4605182  0.47344545]\n",
            "418/500: [0.49851766 0.4604918  0.47334838]\n",
            "419/500: [0.49853098 0.46043155 0.47330165]\n",
            "420/500: [0.49853155 0.4604108  0.47322425]\n",
            "421/500: [0.49848056 0.46037337 0.47312263]\n",
            "422/500: [0.49843597 0.46031934 0.47303388]\n",
            "423/500: [0.49840802 0.460302   0.47297868]\n",
            "424/500: [0.49832773 0.46026853 0.4728628 ]\n",
            "425/500: [0.4983446  0.46019384 0.47279996]\n",
            "426/500: [0.498372  0.4601701 0.472728 ]\n",
            "427/500: [0.49850082 0.4602206  0.4727011 ]\n",
            "428/500: [0.4986027  0.46023652 0.47279215]\n",
            "429/500: [0.49872887 0.46038812 0.4728025 ]\n",
            "430/500: [0.49899757 0.460601   0.4729126 ]\n",
            "431/500: [0.49921566 0.46088246 0.47294796]\n",
            "432/500: [0.49952653 0.46123648 0.47307578]\n",
            "433/500: [0.4998089  0.46175978 0.47328153]\n",
            "434/500: [0.5000286  0.4623157  0.47347897]\n",
            "435/500: [0.5000383  0.46281448 0.4736    ]\n",
            "436/500: [0.49977148 0.46319634 0.47355163]\n",
            "437/500: [0.49929923 0.46337923 0.47338426]\n",
            "438/500: [0.49862933 0.46336222 0.47307864]\n",
            "439/500: [0.49770743 0.46304342 0.4725112 ]\n",
            "440/500: [0.4969319  0.4626161  0.47206017]\n",
            "441/500: [0.4961065  0.46210393 0.4715567 ]\n",
            "442/500: [0.49534738 0.46154773 0.47112358]\n",
            "443/500: [0.49471754 0.46099445 0.47075826]\n",
            "444/500: [0.49426892 0.46048805 0.47047538]\n",
            "445/500: [0.49411488 0.46011716 0.47033122]\n",
            "446/500: [0.4942395  0.45987493 0.47038504]\n",
            "447/500: [0.49459004 0.45972094 0.47055233]\n",
            "448/500: [0.4951958  0.45972857 0.47088912]\n",
            "449/500: [0.49608546 0.45974684 0.47145066]\n",
            "450/500: [0.4967535  0.45988286 0.47180665]\n",
            "451/500: [0.4974874  0.45999888 0.4721787 ]\n",
            "452/500: [0.4981676  0.46004492 0.47250375]\n",
            "453/500: [0.4988553  0.46009013 0.47282115]\n",
            "454/500: [0.49943754 0.46010423 0.47305188]\n",
            "455/500: [0.4999345  0.46017602 0.47326744]\n",
            "456/500: [0.50024605 0.4602419  0.47333252]\n",
            "457/500: [0.50040454 0.46025845 0.473294  ]\n",
            "458/500: [0.5004903  0.4602719  0.47325552]\n",
            "459/500: [0.5003075  0.46028888 0.47307253]\n",
            "460/500: [0.50017077 0.46041253 0.4728547 ]\n",
            "461/500: [0.5000525  0.46055514 0.47279367]\n",
            "462/500: [0.49987763 0.46075994 0.47272542]\n",
            "463/500: [0.49961743 0.4610442  0.4726411 ]\n",
            "464/500: [0.49948984 0.46139228 0.47265956]\n",
            "465/500: [0.49938965 0.46176818 0.47269365]\n",
            "466/500: [0.49926403 0.46215424 0.4726738 ]\n",
            "467/500: [0.49909684 0.46243918 0.47261688]\n",
            "468/500: [0.49914098 0.46282455 0.47266042]\n",
            "469/500: [0.49911088 0.4631912  0.47265932]\n",
            "470/500: [0.49911982 0.4634979  0.4727236 ]\n",
            "471/500: [0.49896103 0.4637896  0.47266844]\n",
            "472/500: [0.4989717  0.46393216 0.4727323 ]\n",
            "473/500: [0.4989525  0.46400753 0.47274008]\n",
            "474/500: [0.49892622 0.46394262 0.47271088]\n",
            "475/500: [0.49884957 0.4638484  0.47263357]\n",
            "476/500: [0.49879736 0.46363625 0.47252476]\n",
            "477/500: [0.49868184 0.4634254  0.47237417]\n",
            "478/500: [0.498587   0.46320587 0.4722003 ]\n",
            "479/500: [0.4985792  0.46292266 0.47205263]\n",
            "480/500: [0.49865562 0.4626873  0.47195724]\n",
            "481/500: [0.49882746 0.462389   0.4718845 ]\n",
            "482/500: [0.49916363 0.46236736 0.4720004 ]\n",
            "483/500: [0.49933833 0.46222278 0.47202075]\n",
            "484/500: [0.4995786  0.4620401  0.47210118]\n",
            "485/500: [0.4998836  0.46198452 0.47223777]\n",
            "486/500: [0.5002329  0.46205336 0.4724599 ]\n",
            "487/500: [0.50057554 0.46242577 0.4727739 ]\n",
            "488/500: [0.5007055  0.46265322 0.47294414]\n",
            "489/500: [0.50078934 0.46285376 0.4731    ]\n",
            "490/500: [0.5008412  0.4630169  0.47324258]\n",
            "491/500: [0.50088894 0.4631921  0.473384  ]\n",
            "492/500: [0.50079656 0.46331668 0.47338304]\n",
            "493/500: [0.50069374 0.46339253 0.4734336 ]\n",
            "494/500: [0.50062984 0.4634523  0.47341654]\n",
            "495/500: [0.50049263 0.46349537 0.47333875]\n",
            "496/500: [0.5003122  0.46348956 0.473186  ]\n",
            "497/500: [0.5001385  0.46344605 0.47302765]\n",
            "498/500: [0.50003755 0.4633691  0.47287685]\n",
            "499/500: [0.49995935 0.46332464 0.47276768]\n",
            "          X         Y         Z\n",
            "0  0.500721  0.465555  0.475859\n",
            "1  0.501014  0.465584  0.475934\n",
            "2  0.501314  0.465635  0.476011\n",
            "3  0.501566  0.465631  0.476050\n",
            "4  0.501830  0.465611  0.476074\n",
            "            X         Y         Z\n",
            "495  0.500493  0.463495  0.473339\n",
            "496  0.500312  0.463490  0.473186\n",
            "497  0.500139  0.463446  0.473028\n",
            "498  0.500038  0.463369  0.472877\n",
            "499  0.499959  0.463325  0.472768\n"
          ],
          "name": "stdout"
        }
      ]
    },
    {
      "metadata": {
        "id": "YRHyjh4Z1gbh",
        "colab_type": "code",
        "colab": {}
      },
      "cell_type": "code",
      "source": [
        "\n",
        "# plot history\n",
        "pyplot.plot(pd_moving_y_pred.X, label='X_pred')\n",
        "pyplot.plot(test_yp[0:number_steps,0], label='X_real')\n",
        "pyplot.ylim(0.0,1.0)\n",
        "pyplot.legend()\n",
        "pyplot.show()\n",
        "\n",
        "pyplot.plot(pd_moving_y_pred.Y, label='Y_pred')\n",
        "pyplot.plot(test_yp[0:number_steps,1], label='Y_real')\n",
        "pyplot.ylim(0.0,1.0)\n",
        "pyplot.legend()\n",
        "pyplot.show()\n",
        "\n",
        "pyplot.plot(pd_moving_y_pred.Z, label='Z_pred')\n",
        "pyplot.plot(test_yp[0:number_steps,2], label='Z_real')\n",
        "pyplot.ylim(0.0,1.0)\n",
        "pyplot.legend()\n",
        "pyplot.show()\n"
      ],
      "execution_count": 0,
      "outputs": []
    },
    {
      "metadata": {
        "id": "3-kWWyQio6hJ",
        "colab_type": "text"
      },
      "cell_type": "markdown",
      "source": [
        "## 8.7 Evaluating LSTM performance"
      ]
    },
    {
      "metadata": {
        "id": "IsQN8BKF8TjA",
        "colab_type": "code",
        "outputId": "a08d5475-9834-46c3-a1d3-8228b511412d",
        "colab": {
          "base_uri": "https://localhost:8080/",
          "height": 34
        }
      },
      "cell_type": "code",
      "source": [
        "test_yp[0:4,0]"
      ],
      "execution_count": 0,
      "outputs": [
        {
          "output_type": "execute_result",
          "data": {
            "text/plain": [
              "array([0.5045177 , 0.504884  , 0.50512821, 0.50586081])"
            ]
          },
          "metadata": {
            "tags": []
          },
          "execution_count": 157
        }
      ]
    },
    {
      "metadata": {
        "id": "3p2RRK890rvX",
        "colab_type": "code",
        "colab": {}
      },
      "cell_type": "code",
      "source": [
        "from math import sqrt\n",
        "from sklearn.metrics import mean_squared_error\n",
        "\n",
        "moving_y_pred = []\n",
        "\n",
        "\n",
        "# make a prediction\n",
        "for i in range(2):\n",
        "  #prediction input:\n",
        "  pred_x = test_xp[i:i+1,:,:]\n",
        "  pred_y = my_model_NN.predict(pred_x)\n",
        "  moving_y_pred.appendy_pred.append(pd.DataFrame(my_model_NN.predict(test_xp[i:i+1,:,:])))\n",
        "\n",
        "print(y_pred)\n",
        "\n"
      ],
      "execution_count": 0,
      "outputs": []
    },
    {
      "metadata": {
        "id": "u01F1sWLu5-t",
        "colab_type": "code",
        "outputId": "4b6cabf6-459f-4cb0-d42a-c190a9154c1f",
        "colab": {
          "base_uri": "https://localhost:8080/",
          "height": 34
        }
      },
      "cell_type": "code",
      "source": [
        "print(y_pred[0][:][0:1])\n",
        "# calculate RMSE\n",
        "#rmse = sqrt(mean_squared_error(test_yp[0:1,:], yhat))\n",
        "#print('Test RMSE: %.3f' % rmse)"
      ],
      "execution_count": 0,
      "outputs": [
        {
          "output_type": "stream",
          "text": [
            "[[0.4927795  0.4794422  0.48468375]]\n"
          ],
          "name": "stdout"
        }
      ]
    },
    {
      "metadata": {
        "id": "PNpCJmVctL5L",
        "colab_type": "code",
        "outputId": "c03dd01a-c873-41ae-e716-77b8cdce1d75",
        "colab": {
          "base_uri": "https://localhost:8080/",
          "height": 34
        }
      },
      "cell_type": "code",
      "source": [
        "yhat.shape"
      ],
      "execution_count": 0,
      "outputs": [
        {
          "output_type": "execute_result",
          "data": {
            "text/plain": [
              "(1, 3)"
            ]
          },
          "metadata": {
            "tags": []
          },
          "execution_count": 55
        }
      ]
    },
    {
      "metadata": {
        "id": "8CczEGoXjliv",
        "colab_type": "code",
        "outputId": "fe5c779b-a1a8-413c-c4a5-8fef779d5c4a",
        "colab": {
          "base_uri": "https://localhost:8080/",
          "height": 347
        }
      },
      "cell_type": "code",
      "source": [
        "# plot history\n",
        "pyplot.plot((0,test_yp[0:1,2]), label='real')\n",
        "pyplot.plot((0,yhat[0,2]), label='pred')\n",
        "pyplot.legend()\n",
        "pyplot.show()\n",
        "\n"
      ],
      "execution_count": 0,
      "outputs": [
        {
          "output_type": "display_data",
          "data": {
            "image/png": "[encoded data removed]",
            "text/plain": [
              "<matplotlib.figure.Figure at 0x7f98ab207390>"
            ]
          },
          "metadata": {
            "tags": []
          }
        }
      ]
    },
    {
      "metadata": {
        "id": "VYkqSrWZpJvD",
        "colab_type": "text"
      },
      "cell_type": "markdown",
      "source": [
        "## 8.8. Design another LSTM Network model"
      ]
    },
    {
      "metadata": {
        "colab_type": "code",
        "id": "zkQbNnDLVKoe",
        "colab": {}
      },
      "cell_type": "code",
      "source": [
        "from matplotlib import pyplot\n",
        "from keras.models import Sequential\n",
        "from keras.layers import Dense, Dropout, Embedding, LSTM, Bidirectional\n",
        "\n",
        "# Design the LSTM Network\n",
        "\n",
        "LSTM_model = Sequential()\n",
        "LSTM_model.add(Dropout(0.5))\n",
        "LSTM_model.add(LSTM(1024, input_shape=(train_x.shape[1], train_x.shape[2]), return_sequences=True))\n",
        "LSTM_model.add(Dropout(0.5))\n",
        "LSTM_model.add(LSTM(512, return_sequences=True))\n",
        "LSTM_model.add(Dropout(0.5))\n",
        "LSTM_model.add(LSTM(256))\n",
        "LSTM_model.add(Dense(3))\n",
        "LSTM_model.compile(loss='mae', optimizer='adam')\n",
        "\n",
        "# show the model\n",
        "print(LSTM_model.summary)\n",
        "\n",
        "# fit network\n",
        "history = LSTM_model.fit(train_x, train_y, epochs=5, batch_size=100, validation_data=(val_x, val_y), verbose=2, shuffle=False)\n",
        "\n",
        "# plot history\n",
        "pyplot.plot(history.history['loss'], label='train')\n",
        "pyplot.plot(history.history['val_loss'], label='val')\n",
        "pyplot.legend()\n",
        "pyplot.show()"
      ],
      "execution_count": 0,
      "outputs": []
    },
    {
      "metadata": {
        "id": "ytIzennKn4SQ",
        "colab_type": "code",
        "outputId": "54707ce7-9390-4e0f-b3ac-d9c5bb0fbba0",
        "colab": {
          "base_uri": "https://localhost:8080/",
          "height": 34
        }
      },
      "cell_type": "code",
      "source": [
        "from math import sqrt\n",
        "from sklearn.metrics import mean_squared_error\n",
        "\n",
        "# make a prediction\n",
        "yhat = LSTM_model.predict(test_x)\n",
        "\n",
        "# calculate RMSE\n",
        "rmse = sqrt(mean_squared_error(test_y, yhat))\n",
        "print('Test RMSE: %.3f' % rmse)"
      ],
      "execution_count": 0,
      "outputs": [
        {
          "output_type": "stream",
          "text": [
            "Test RMSE: 94.490\n"
          ],
          "name": "stdout"
        }
      ]
    },
    {
      "metadata": {
        "id": "ElytM5LZorfP",
        "colab_type": "code",
        "outputId": "0aa64443-e8fd-4271-b566-cc8d1282a622",
        "colab": {
          "base_uri": "https://localhost:8080/",
          "height": 51
        }
      },
      "cell_type": "code",
      "source": [
        ""
      ],
      "execution_count": 0,
      "outputs": [
        {
          "output_type": "execute_result",
          "data": {
            "text/plain": [
              "array([ -2.90420818,  -0.90420818,  -0.90420818, ..., -15.18464518,\n",
              "        -0.18933129,  15.80666387])"
            ]
          },
          "metadata": {
            "tags": []
          },
          "execution_count": 156
        }
      ]
    },
    {
      "metadata": {
        "id": "VXdxVtQ2eolr",
        "colab_type": "code",
        "outputId": "bab81529-b40e-4a33-dcb7-ee5e1c59eb76",
        "colab": {
          "base_uri": "https://localhost:8080/",
          "height": 2261
        }
      },
      "cell_type": "code",
      "source": [
        "\"\"\"\n",
        "    Preparing the FALLS DATASETs\n",
        "    In this cell, we prepare the TRAINING/VAL/TEST DATASET splits for the falls data.\n",
        "    Using a 70%-20%-10% split\n",
        "\"\"\"\n",
        "\n",
        "import random\n",
        "import math\n",
        "from numpy.random import permutation\n",
        "\n",
        "df_filenames = df_only_Falls.File\n",
        "df_filenames = pd.DataFrame(list(set(df_filenames)))\n",
        "\n",
        "\n",
        "# Randomly shuffle the index of each set (ADLs and Falls)\n",
        "# -------------------------------------------------------\n",
        "# First we prepare the sets of ADLs\n",
        "random_indices = permutation(df_filenames.index)\n",
        "# Use a test-split (of 30% of the items)\n",
        "train_split = math.floor(len(df_filenames)*0.7)\n",
        "val_split = math.floor(len(df_filenames)*0.2)\n",
        "# Train set with 70% of the items.\n",
        "df_only_Falls_train_FN = df_filenames.loc[random_indices[0:train_split]]\n",
        "# Test set with 20% of items\n",
        "df_only_Falls_val_FN = df_filenames.loc[random_indices[train_split:train_split+val_split]]\n",
        "# VAL set with 10% of items\n",
        "df_only_Falls_test_FN = df_filenames.loc[random_indices[train_split+val_split:]]\n",
        "\n",
        "print(\"-------TOTAL--------------------\")\n",
        "print(str(len(df_filenames)))\n",
        "print(\"-------train_split--------------------\")\n",
        "print(str(train_split))\n",
        "print(str(len(df_only_Falls_train_FN)))\n",
        "print(\"-------VAL_split--------------------\")\n",
        "print(str(val_split))\n",
        "print(str(len(df_only_Falls_val_FN)))\n",
        "print(\"-------Test_split--------------------\")\n",
        "test_split = len(df_filenames)-(train_split+val_split)\n",
        "print(str(test_split))\n",
        "print(str(len(df_only_Falls_test_FN)))\n",
        "print(\"-------SUMA de_splits--------------------\")\n",
        "print(str(test_split+train_split+val_split))\n",
        "\n",
        "print(\"-------HEADS: train + val + test --------------------\")\n",
        "print(df_only_Falls_train_FN.head())\n",
        "print(df_only_Falls_val_FN.head())\n",
        "print(df_only_Falls_test_FN.head())\n",
        "print(\"---------------------------\")\n",
        "\n",
        "print(\"-------% train  --------------------\")\n",
        "print(len(df_only_Falls_train_FN)/(len(df_only_Falls_train_FN)+len(df_only_Falls_val_FN)+len(df_only_Falls_test_FN)))\n",
        "print(\"-------% val  --------------------\")\n",
        "print(len(df_only_Falls_val_FN)/(len(df_only_Falls_train_FN)+len(df_only_Falls_val_FN)+len(df_only_Falls_test_FN)))\n",
        "print(\"-------% test  --------------------\")\n",
        "print(len(df_only_Falls_test_FN)/(len(df_only_Falls_train_FN)+len(df_only_Falls_val_FN)+len(df_only_Falls_test_FN)))\n",
        "\n",
        "\n",
        "# Test set with 10% of items\n",
        "df_only_Falls_test = df_only_Falls[df_only_Falls.File.isin(df_only_Falls_test_FN[0])]\n",
        "# Val set with 20% of items\n",
        "df_only_Falls_val = df_only_Falls[df_only_Falls.File.isin(df_only_Falls_val_FN[0])]\n",
        "# Train set with 70% of the items.\n",
        "df_only_Falls_train = df_only_Falls[df_only_Falls.File.isin(df_only_Falls_train_FN[0])]\n",
        "\n",
        "\n",
        "print(\"---------------------------\")\n",
        "print(\"---------------------------\")\n",
        "print(df_only_Falls_test.head())\n",
        "print(len(df_only_Falls_test))\n",
        "print(df_only_Falls_val.head())\n",
        "print(len(df_only_Falls_val))\n",
        "print(df_only_Falls_train.head())\n",
        "print(len(df_only_Falls_train))\n",
        "\n",
        "print(\"---------------------------\")\n"
      ],
      "execution_count": 0,
      "outputs": [
        {
          "output_type": "stream",
          "text": [
            "-------TOTAL--------------------\n",
            "1798\n",
            "-------train_split--------------------\n",
            "1258\n",
            "1258\n",
            "-------VAL_split--------------------\n",
            "359\n",
            "359\n",
            "-------Test_split--------------------\n",
            "181\n",
            "181\n",
            "-------SUMA de_splits--------------------\n",
            "1798\n",
            "-------HEADS: train + val + test --------------------\n",
            "                     0\n",
            "380   F01_SA02_R01.txt\n",
            "578   F05_SA02_R04.txt\n",
            "203   F06_SA20_R01.txt\n",
            "734   F01_SE06_R05.txt\n",
            "1040  F07_SA08_R04.txt\n",
            "                     0\n",
            "1152  F10_SA22_R01.txt\n",
            "486   F10_SE06_R03.txt\n",
            "1022  F01_SA19_R04.txt\n",
            "1441  F02_SA16_R01.txt\n",
            "887   F02_SA04_R05.txt\n",
            "                     0\n",
            "681   F14_SA08_R02.txt\n",
            "706   F07_SA13_R05.txt\n",
            "1134  F12_SA22_R03.txt\n",
            "543   F14_SA03_R04.txt\n",
            "1627  F05_SA07_R05.txt\n",
            "---------------------------\n",
            "-------% train  --------------------\n",
            "0.699666295884316\n",
            "-------% val  --------------------\n",
            "0.19966629588431592\n",
            "-------% test  --------------------\n",
            "0.10066740823136819\n",
            "---------------------------\n",
            "---------------------------\n",
            "       0_Win_ID Act_Type Age_Cat Fall_ADL              File  kurtosis_S1_X  \\\n",
            "74210         0      F01      SA        F  F01_SA02_R04.txt       1.372828   \n",
            "74211         1      F01      SA        F  F01_SA02_R04.txt       0.236132   \n",
            "74212         2      F01      SA        F  F01_SA02_R04.txt       0.082957   \n",
            "74213         3      F01      SA        F  F01_SA02_R04.txt       0.036610   \n",
            "74214         4      F01      SA        F  F01_SA02_R04.txt      -0.081237   \n",
            "\n",
            "       max_S1_X  mean_S1_X  min_S1_X  range_S1_X    ...     range_S1_N_VER  \\\n",
            "74210       113     14.660      -109         222    ...           0.549762   \n",
            "74211       113     18.515       -81         194    ...           0.549762   \n",
            "74212       113     17.510       -35         148    ...           0.549762   \n",
            "74213       113     14.995       -44         157    ...           0.549762   \n",
            "74214       113     13.875       -44         157    ...           0.549762   \n",
            "\n",
            "       skewness_S1_N_VER  std_S1_N_VER  var_S1_N_VER   corr_HV   corr_NH  \\\n",
            "74210           0.613749      0.140211      0.019659  0.374884  0.996669   \n",
            "74211           0.812078      0.131952      0.017411  0.287184  0.996819   \n",
            "74212           0.930072      0.131743      0.017356  0.300993  0.996938   \n",
            "74213           1.004197      0.130710      0.017085  0.324425  0.996974   \n",
            "74214           1.037387      0.127712      0.016310  0.368552  0.997010   \n",
            "\n",
            "        corr_NV   corr_XY   corr_XZ   corr_YZ  \n",
            "74210  0.431172  0.100111  0.000433 -0.101398  \n",
            "74211  0.343333 -0.222682  0.127680 -0.028122  \n",
            "74212  0.355332 -0.313782  0.120176 -0.060068  \n",
            "74213  0.377679 -0.313504  0.137816 -0.023554  \n",
            "74214  0.419866 -0.325779  0.159143 -0.034850  \n",
            "\n",
            "[5 rows x 59 columns]\n",
            "7421\n",
            "       0_Win_ID Act_Type Age_Cat Fall_ADL              File  kurtosis_S1_X  \\\n",
            "73882         0      F01      SA        F  F01_SA01_R01.txt       1.171828   \n",
            "73883         1      F01      SA        F  F01_SA01_R01.txt       1.165338   \n",
            "73884         2      F01      SA        F  F01_SA01_R01.txt       1.252298   \n",
            "73885         3      F01      SA        F  F01_SA01_R01.txt       1.573220   \n",
            "73886         4      F01      SA        F  F01_SA01_R01.txt       2.841073   \n",
            "\n",
            "       max_S1_X  mean_S1_X  min_S1_X  range_S1_X    ...     range_S1_N_VER  \\\n",
            "73882        85     -2.090      -114         199    ...           0.554633   \n",
            "73883        85     -2.670      -114         199    ...           0.554633   \n",
            "73884        85     -2.095      -114         199    ...           0.554633   \n",
            "73885        85      0.385      -114         199    ...           0.554633   \n",
            "73886        85      4.115      -114         199    ...           0.554633   \n",
            "\n",
            "       skewness_S1_N_VER  std_S1_N_VER  var_S1_N_VER   corr_HV   corr_NH  \\\n",
            "73882           0.446500      0.137164      0.018814  0.301081  0.996504   \n",
            "73883           0.413361      0.138937      0.019304  0.325666  0.996664   \n",
            "73884           0.412581      0.140126      0.019635  0.349794  0.996720   \n",
            "73885           0.584479      0.138831      0.019274  0.392907  0.996872   \n",
            "73886           0.730946      0.138403      0.019156  0.367269  0.996289   \n",
            "\n",
            "        corr_NV   corr_XY   corr_XZ   corr_YZ  \n",
            "73882  0.335763  0.263937 -0.062947  0.245159  \n",
            "73883  0.359071  0.251497 -0.069058  0.238255  \n",
            "73884  0.382485  0.260917 -0.059155  0.248694  \n",
            "73885  0.425018  0.300276  0.016490  0.236701  \n",
            "73886  0.403227  0.146171 -0.003278  0.237217  \n",
            "\n",
            "[5 rows x 59 columns]\n",
            "14719\n",
            "       0_Win_ID Act_Type Age_Cat Fall_ADL              File  kurtosis_S1_X  \\\n",
            "74005         0      F01      SA        F  F01_SA01_R04.txt       2.378725   \n",
            "74006         1      F01      SA        F  F01_SA01_R04.txt       1.758380   \n",
            "74007         2      F01      SA        F  F01_SA01_R04.txt       1.259635   \n",
            "74008         3      F01      SA        F  F01_SA01_R04.txt       1.228117   \n",
            "74009         4      F01      SA        F  F01_SA01_R04.txt       1.033344   \n",
            "\n",
            "       max_S1_X  mean_S1_X  min_S1_X  range_S1_X    ...     range_S1_N_VER  \\\n",
            "74005       114     12.435      -181         295    ...           1.137148   \n",
            "74006       114     10.215      -181         295    ...           1.137148   \n",
            "74007       114     14.545      -181         295    ...           1.137148   \n",
            "74008       114     17.245      -181         295    ...           1.105898   \n",
            "74009       114     16.290      -181         295    ...           1.124796   \n",
            "\n",
            "       skewness_S1_N_VER  std_S1_N_VER  var_S1_N_VER   corr_HV   corr_NH  \\\n",
            "74005           2.095565      0.187731      0.035243  0.490460  0.995227   \n",
            "74006           1.964441      0.188469      0.035521  0.478774  0.994868   \n",
            "74007           1.820719      0.187108      0.035009  0.414585  0.992573   \n",
            "74008           2.009225      0.179511      0.032224  0.414591  0.992878   \n",
            "74009           1.910983      0.182354      0.033253  0.436105  0.993287   \n",
            "\n",
            "        corr_NV   corr_XY   corr_XZ   corr_YZ  \n",
            "74005  0.553179  0.047076  0.530257  0.288389  \n",
            "74006  0.543768  0.022320  0.534386  0.291252  \n",
            "74007  0.496643  0.088437  0.466868  0.261847  \n",
            "74008  0.494766  0.119705  0.479750  0.256974  \n",
            "74009  0.512598  0.093130  0.479493  0.279663  \n",
            "\n",
            "[5 rows x 59 columns]\n",
            "51578\n",
            "---------------------------\n"
          ],
          "name": "stdout"
        }
      ]
    },
    {
      "metadata": {
        "id": "Bno5z0-8eomc",
        "colab_type": "code",
        "outputId": "ae626dc4-be00-4759-cbd2-5d7cf3187152",
        "colab": {
          "base_uri": "https://localhost:8080/",
          "height": 2261
        }
      },
      "cell_type": "code",
      "source": [
        "\"\"\"\n",
        "    Preparing the ADLs DATASETs\n",
        "    In this cell, we prepare the TRAINING/VAL/TEST DATASET splits for the ADLs data.\n",
        "    Using a 70%-20%-10% split\n",
        "\"\"\"\n",
        "\n",
        "import random\n",
        "import math\n",
        "from numpy.random import permutation\n",
        "\n",
        "df_filenames = df_only_ADLs.File\n",
        "df_filenames = pd.DataFrame(list(set(df_filenames)))\n",
        "\n",
        "\n",
        "# Randomly shuffle the index of each set (ADLs and Falls)\n",
        "# -------------------------------------------------------\n",
        "# First we prepare the sets of ADLs\n",
        "random_indices = permutation(df_filenames.index)\n",
        "# Use a test-split (of 30% of the items)\n",
        "train_split = math.floor(len(df_filenames)*0.7)\n",
        "val_split = math.floor(len(df_filenames)*0.2)\n",
        "# Train set with 70% of the items.\n",
        "df_only_ADLs_train_FN = df_filenames.loc[random_indices[0:train_split]]\n",
        "# Test set with 20% of items\n",
        "df_only_ADLs_val_FN = df_filenames.loc[random_indices[train_split:train_split+val_split]]\n",
        "# VAL set with 10% of items\n",
        "df_only_ADLs_test_FN = df_filenames.loc[random_indices[train_split+val_split:]]\n",
        "\n",
        "print(\"-------TOTAL--------------------\")\n",
        "print(str(len(df_filenames)))\n",
        "print(\"-------train_split--------------------\")\n",
        "print(str(train_split))\n",
        "print(str(len(df_only_ADLs_train_FN)))\n",
        "print(\"-------VAL_split--------------------\")\n",
        "print(str(val_split))\n",
        "print(str(len(df_only_ADLs_val_FN)))\n",
        "print(\"-------Test_split--------------------\")\n",
        "test_split = len(df_filenames)-(train_split+val_split)\n",
        "print(str(test_split))\n",
        "print(str(len(df_only_ADLs_test_FN)))\n",
        "print(\"-------SUMA de_splits--------------------\")\n",
        "print(str(test_split+train_split+val_split))\n",
        "\n",
        "print(\"-------HEADS: train + val + test --------------------\")\n",
        "print(df_only_ADLs_train_FN.head())\n",
        "print(df_only_ADLs_val_FN.head())\n",
        "print(df_only_ADLs_test_FN.head())\n",
        "print(\"---------------------------\")\n",
        "\n",
        "print(\"-------% train  --------------------\")\n",
        "print(len(df_only_ADLs_train_FN)/(len(df_only_ADLs_train_FN)+len(df_only_ADLs_val_FN)+len(df_only_ADLs_test_FN)))\n",
        "print(\"-------% val  --------------------\")\n",
        "print(len(df_only_ADLs_val_FN)/(len(df_only_ADLs_train_FN)+len(df_only_ADLs_val_FN)+len(df_only_ADLs_test_FN)))\n",
        "print(\"-------% test  --------------------\")\n",
        "print(len(df_only_ADLs_test_FN)/(len(df_only_ADLs_train_FN)+len(df_only_ADLs_val_FN)+len(df_only_ADLs_test_FN)))\n",
        "\n",
        "\n",
        "# Test set with 10% of items\n",
        "df_only_ADLs_test = df_only_ADLs[df_only_ADLs.File.isin(df_only_ADLs_test_FN[0])]\n",
        "# Val set with 20% of items\n",
        "df_only_ADLs_val = df_only_ADLs[df_only_ADLs.File.isin(df_only_ADLs_val_FN[0])]\n",
        "# Train set with 70% of the items.\n",
        "df_only_ADLs_train = df_only_ADLs[df_only_ADLs.File.isin(df_only_ADLs_train_FN[0])]\n",
        "\n",
        "\n",
        "print(\"---------------------------\")\n",
        "print(\"---------------------------\")\n",
        "print(df_only_ADLs_test.head())\n",
        "print(len(df_only_ADLs_test))\n",
        "print(df_only_ADLs_val.head())\n",
        "print(len(df_only_ADLs_val))\n",
        "print(df_only_ADLs_train.head())\n",
        "print(len(df_only_ADLs_train))\n",
        "\n",
        "print(\"---------------------------\")\n"
      ],
      "execution_count": 0,
      "outputs": [
        {
          "output_type": "stream",
          "text": [
            "-------TOTAL--------------------\n",
            "1798\n",
            "-------train_split--------------------\n",
            "1258\n",
            "1258\n",
            "-------VAL_split--------------------\n",
            "359\n",
            "359\n",
            "-------Test_split--------------------\n",
            "181\n",
            "181\n",
            "-------SUMA de_splits--------------------\n",
            "1798\n",
            "-------HEADS: train + val + test --------------------\n",
            "                     0\n",
            "972   D15_SA05_R02.txt\n",
            "300   D17_SA14_R02.txt\n",
            "1608  D17_SA13_R03.txt\n",
            "732   D14_SE01_R01.txt\n",
            "1561  D09_SA19_R04.txt\n",
            "                     0\n",
            "196   D13_SA12_R03.txt\n",
            "730   D17_SA12_R03.txt\n",
            "1115  D15_SA14_R05.txt\n",
            "1472  D18_SA04_R05.txt\n",
            "1189  D09_SA15_R05.txt\n",
            "                     0\n",
            "1247  D05_SA13_R03.txt\n",
            "367   D16_SA20_R01.txt\n",
            "365   D05_SE07_R03.txt\n",
            "58    D12_SA05_R05.txt\n",
            "1423  D09_SE01_R02.txt\n",
            "---------------------------\n",
            "-------% train  --------------------\n",
            "0.699666295884316\n",
            "-------% val  --------------------\n",
            "0.19966629588431592\n",
            "-------% test  --------------------\n",
            "0.10066740823136819\n",
            "---------------------------\n",
            "---------------------------\n",
            "     0_Win_ID Act_Type Age_Cat Fall_ADL              File  kurtosis_S1_X  \\\n",
            "656         0      D04      SA        D  D04_SA15_R01.txt       1.976798   \n",
            "657         1      D04      SA        D  D04_SA15_R01.txt       1.794956   \n",
            "658         2      D04      SA        D  D04_SA15_R01.txt       1.822103   \n",
            "659         3      D04      SA        D  D04_SA15_R01.txt       2.207989   \n",
            "660         4      D04      SA        D  D04_SA15_R01.txt       2.853556   \n",
            "\n",
            "     max_S1_X  mean_S1_X  min_S1_X  range_S1_X    ...     range_S1_N_VER  \\\n",
            "656       602    -14.525      -495        1097    ...            2.32987   \n",
            "657       602    -10.275      -495        1097    ...            2.32987   \n",
            "658       602    -16.935      -495        1097    ...            2.32987   \n",
            "659       602    -23.910      -495        1097    ...            2.32987   \n",
            "660       602    -35.175      -495        1097    ...            2.32987   \n",
            "\n",
            "     skewness_S1_N_VER  std_S1_N_VER  var_S1_N_VER   corr_HV   corr_NH  \\\n",
            "656           0.840731      0.531191      0.282164  0.761325  0.989170   \n",
            "657           0.782319      0.517529      0.267836  0.770340  0.989002   \n",
            "658           0.797434      0.515261      0.265494  0.758612  0.989219   \n",
            "659           0.807469      0.521031      0.271474  0.769937  0.989886   \n",
            "660           0.902939      0.513197      0.263371  0.784914  0.990043   \n",
            "\n",
            "      corr_NV   corr_XY   corr_XZ   corr_YZ  \n",
            "656  0.812910  0.074325 -0.261369 -0.528707  \n",
            "657  0.821536  0.063637 -0.240133 -0.550371  \n",
            "658  0.810495  0.030608 -0.224860 -0.555241  \n",
            "659  0.818470 -0.023804 -0.196976 -0.534093  \n",
            "660  0.831014 -0.053679 -0.115764 -0.567833  \n",
            "\n",
            "[5 rows x 59 columns]\n",
            "7421\n",
            "     0_Win_ID Act_Type Age_Cat Fall_ADL              File  kurtosis_S1_X  \\\n",
            "451         0      D09      SA        D  D09_SA16_R02.txt      -0.501160   \n",
            "452         1      D09      SA        D  D09_SA16_R02.txt      -0.321327   \n",
            "453         2      D09      SA        D  D09_SA16_R02.txt      -0.200045   \n",
            "454         3      D09      SA        D  D09_SA16_R02.txt      -0.303500   \n",
            "455         4      D09      SA        D  D09_SA16_R02.txt      -0.452534   \n",
            "\n",
            "     max_S1_X  mean_S1_X  min_S1_X  range_S1_X    ...     range_S1_N_VER  \\\n",
            "451        24       8.57       -11          35    ...           0.581810   \n",
            "452        24       8.06       -13          37    ...           0.594688   \n",
            "453        24       7.72       -14          38    ...           0.586584   \n",
            "454        24       7.90       -14          38    ...           0.641894   \n",
            "455        24       7.67       -14          38    ...           0.641894   \n",
            "\n",
            "     skewness_S1_N_VER  std_S1_N_VER  var_S1_N_VER   corr_HV   corr_NH  \\\n",
            "451           0.385679      0.185175      0.034290  0.312680  0.999821   \n",
            "452           0.246218      0.191359      0.036618  0.499402  0.999834   \n",
            "453           0.104850      0.192247      0.036959  0.618865  0.999832   \n",
            "454          -0.010624      0.196151      0.038475  0.697673  0.999830   \n",
            "455          -0.169098      0.194311      0.037757  0.772289  0.999843   \n",
            "\n",
            "      corr_NV   corr_XY   corr_XZ   corr_YZ  \n",
            "451  0.316069  0.013156 -0.159564 -0.740315  \n",
            "452  0.504183  0.093951 -0.190170 -0.712571  \n",
            "453  0.623152  0.044874 -0.128653 -0.703720  \n",
            "454  0.701761  0.109529 -0.191202 -0.706882  \n",
            "455  0.775232  0.080999 -0.137352 -0.671835  \n",
            "\n",
            "[5 rows x 59 columns]\n",
            "14719\n",
            "   0_Win_ID Act_Type Age_Cat Fall_ADL              File  kurtosis_S1_X  \\\n",
            "0         0      D08      SA        D  D08_SA06_R02.txt       6.620007   \n",
            "1         1      D08      SA        D  D08_SA06_R02.txt       6.485798   \n",
            "2         2      D08      SA        D  D08_SA06_R02.txt       6.611025   \n",
            "3         3      D08      SA        D  D08_SA06_R02.txt       6.466465   \n",
            "4         4      D08      SA        D  D08_SA06_R02.txt       6.697783   \n",
            "\n",
            "   max_S1_X  mean_S1_X  min_S1_X  range_S1_X    ...     range_S1_N_VER  \\\n",
            "0        20      6.900         0          20    ...           0.136842   \n",
            "1        20      6.910         0          20    ...           0.136842   \n",
            "2        20      6.920         0          20    ...           0.136842   \n",
            "3        20      6.925         0          20    ...           0.136842   \n",
            "4        20      6.840         0          20    ...           0.136842   \n",
            "\n",
            "   skewness_S1_N_VER  std_S1_N_VER  var_S1_N_VER   corr_HV   corr_NH  \\\n",
            "0           0.710918      0.015923      0.000254 -0.252352  0.999241   \n",
            "1           0.595432      0.015770      0.000249 -0.236370  0.999225   \n",
            "2           0.453075      0.016360      0.000268 -0.270590  0.999280   \n",
            "3           0.372169      0.017480      0.000306 -0.175740  0.999289   \n",
            "4           0.316928      0.018029      0.000325 -0.124505  0.999225   \n",
            "\n",
            "    corr_NV   corr_XY   corr_XZ   corr_YZ  \n",
            "0 -0.239644  0.117341 -0.116463 -0.386754  \n",
            "1 -0.223211  0.120348 -0.124524 -0.371086  \n",
            "2 -0.257421  0.087563 -0.147341 -0.420663  \n",
            "3 -0.164122  0.088369 -0.107984 -0.345380  \n",
            "4 -0.113434  0.199635 -0.101410 -0.293257  \n",
            "\n",
            "[5 rows x 59 columns]\n",
            "51742\n",
            "---------------------------\n"
          ],
          "name": "stdout"
        }
      ]
    },
    {
      "metadata": {
        "id": "gl2R07zneomw",
        "colab_type": "code",
        "outputId": "0e4d4608-b601-4fbe-9a01-b4ba996d03de",
        "colab": {
          "base_uri": "https://localhost:8080/",
          "height": 1054
        }
      },
      "cell_type": "code",
      "source": [
        "# Prepare dataset with Test examplars\n",
        "\n",
        "frames = [df_only_Falls_test, df_only_ADLs_test]\n",
        "df_ADL_Falls_test = pd.concat(frames)\n",
        "print(\"Test ADLs: \"+ str(len(df_only_ADLs_test)))\n",
        "print(\"Test Falls: \"+ str(len(df_only_Falls_test)))\n",
        "print(\"Test ALL: \"+ str(len(df_ADL_Falls_test)))\n",
        "\n",
        "print(df_ADL_Falls_test.head())\n",
        "print(df_ADL_Falls_test.tail())\n"
      ],
      "execution_count": 0,
      "outputs": [
        {
          "output_type": "stream",
          "text": [
            "Test ADLs: 7421\n",
            "Test Falls: 7421\n",
            "Test ALL: 14842\n",
            "       0_Win_ID Act_Type Age_Cat Fall_ADL              File  kurtosis_S1_X  \\\n",
            "74210         0      F01      SA        F  F01_SA02_R04.txt       1.372828   \n",
            "74211         1      F01      SA        F  F01_SA02_R04.txt       0.236132   \n",
            "74212         2      F01      SA        F  F01_SA02_R04.txt       0.082957   \n",
            "74213         3      F01      SA        F  F01_SA02_R04.txt       0.036610   \n",
            "74214         4      F01      SA        F  F01_SA02_R04.txt      -0.081237   \n",
            "\n",
            "       max_S1_X  mean_S1_X  min_S1_X  range_S1_X    ...     range_S1_N_VER  \\\n",
            "74210       113     14.660      -109         222    ...           0.549762   \n",
            "74211       113     18.515       -81         194    ...           0.549762   \n",
            "74212       113     17.510       -35         148    ...           0.549762   \n",
            "74213       113     14.995       -44         157    ...           0.549762   \n",
            "74214       113     13.875       -44         157    ...           0.549762   \n",
            "\n",
            "       skewness_S1_N_VER  std_S1_N_VER  var_S1_N_VER   corr_HV   corr_NH  \\\n",
            "74210           0.613749      0.140211      0.019659  0.374884  0.996669   \n",
            "74211           0.812078      0.131952      0.017411  0.287184  0.996819   \n",
            "74212           0.930072      0.131743      0.017356  0.300993  0.996938   \n",
            "74213           1.004197      0.130710      0.017085  0.324425  0.996974   \n",
            "74214           1.037387      0.127712      0.016310  0.368552  0.997010   \n",
            "\n",
            "        corr_NV   corr_XY   corr_XZ   corr_YZ  \n",
            "74210  0.431172  0.100111  0.000433 -0.101398  \n",
            "74211  0.343333 -0.222682  0.127680 -0.028122  \n",
            "74212  0.355332 -0.313782  0.120176 -0.060068  \n",
            "74213  0.377679 -0.313504  0.137816 -0.023554  \n",
            "74214  0.419866 -0.325779  0.159143 -0.034850  \n",
            "\n",
            "[5 rows x 59 columns]\n",
            "       0_Win_ID Act_Type Age_Cat Fall_ADL              File  kurtosis_S1_X  \\\n",
            "73549        36      D10      SE        D  D10_SE11_R04.txt       0.426333   \n",
            "73550        37      D10      SE        D  D10_SE11_R04.txt       1.048984   \n",
            "73551        38      D10      SE        D  D10_SE11_R04.txt       1.696184   \n",
            "73552        39      D10      SE        D  D10_SE11_R04.txt       2.870866   \n",
            "73553        40      D10      SE        D  D10_SE11_R04.txt       2.702809   \n",
            "\n",
            "       max_S1_X  mean_S1_X  min_S1_X  range_S1_X    ...     range_S1_N_VER  \\\n",
            "73549        25     -7.990       -46          71    ...           0.745954   \n",
            "73550        25     -7.090       -46          71    ...           0.745954   \n",
            "73551        25     -6.470       -46          71    ...           0.745954   \n",
            "73552        25     -4.915       -45          70    ...           0.745954   \n",
            "73553        25     -4.120       -34          59    ...           0.745954   \n",
            "\n",
            "       skewness_S1_N_VER  std_S1_N_VER  var_S1_N_VER   corr_HV   corr_NH  \\\n",
            "73549           0.949921      0.104893      0.011002  0.457772  0.999941   \n",
            "73550           1.199228      0.098327      0.009668  0.446256  0.999944   \n",
            "73551           1.395630      0.096099      0.009235  0.442326  0.999950   \n",
            "73552           1.475837      0.095552      0.009130  0.439763  0.999968   \n",
            "73553           1.532257      0.093481      0.008739  0.596511  0.999966   \n",
            "\n",
            "        corr_NV   corr_XY   corr_XZ   corr_YZ  \n",
            "73549  0.458179 -0.052097  0.469280  0.282204  \n",
            "73550  0.446181 -0.078424  0.439495  0.274793  \n",
            "73551  0.442016 -0.097364  0.465092  0.279252  \n",
            "73552  0.439022 -0.156866  0.267743  0.290371  \n",
            "73553  0.596228 -0.316924  0.222387  0.430219  \n",
            "\n",
            "[5 rows x 59 columns]\n"
          ],
          "name": "stdout"
        }
      ]
    },
    {
      "metadata": {
        "id": "pWfSH0rYeoni",
        "colab_type": "code",
        "outputId": "71e2471c-84da-4fe9-ae11-315338b1e5d3",
        "colab": {
          "base_uri": "https://localhost:8080/",
          "height": 1054
        }
      },
      "cell_type": "code",
      "source": [
        "# Prepare dataset with VALIDATION examplars\n",
        "\n",
        "frames = [df_only_Falls_val, df_only_ADLs_val]\n",
        "df_ADL_Falls_val = pd.concat(frames)\n",
        "print(\"VAL ADLs: \"+ str(len(df_only_ADLs_val)))\n",
        "print(\"VAL Falls: \"+ str(len(df_only_Falls_val)))\n",
        "print(\"VAL ALL: \"+ str(len(df_ADL_Falls_val)))\n",
        "\n",
        "print(df_ADL_Falls_val.head())\n",
        "print(df_ADL_Falls_val.tail())\n"
      ],
      "execution_count": 0,
      "outputs": [
        {
          "output_type": "stream",
          "text": [
            "VAL ADLs: 14719\n",
            "VAL Falls: 14719\n",
            "VAL ALL: 29438\n",
            "       0_Win_ID Act_Type Age_Cat Fall_ADL              File  kurtosis_S1_X  \\\n",
            "73882         0      F01      SA        F  F01_SA01_R01.txt       1.171828   \n",
            "73883         1      F01      SA        F  F01_SA01_R01.txt       1.165338   \n",
            "73884         2      F01      SA        F  F01_SA01_R01.txt       1.252298   \n",
            "73885         3      F01      SA        F  F01_SA01_R01.txt       1.573220   \n",
            "73886         4      F01      SA        F  F01_SA01_R01.txt       2.841073   \n",
            "\n",
            "       max_S1_X  mean_S1_X  min_S1_X  range_S1_X    ...     range_S1_N_VER  \\\n",
            "73882        85     -2.090      -114         199    ...           0.554633   \n",
            "73883        85     -2.670      -114         199    ...           0.554633   \n",
            "73884        85     -2.095      -114         199    ...           0.554633   \n",
            "73885        85      0.385      -114         199    ...           0.554633   \n",
            "73886        85      4.115      -114         199    ...           0.554633   \n",
            "\n",
            "       skewness_S1_N_VER  std_S1_N_VER  var_S1_N_VER   corr_HV   corr_NH  \\\n",
            "73882           0.446500      0.137164      0.018814  0.301081  0.996504   \n",
            "73883           0.413361      0.138937      0.019304  0.325666  0.996664   \n",
            "73884           0.412581      0.140126      0.019635  0.349794  0.996720   \n",
            "73885           0.584479      0.138831      0.019274  0.392907  0.996872   \n",
            "73886           0.730946      0.138403      0.019156  0.367269  0.996289   \n",
            "\n",
            "        corr_NV   corr_XY   corr_XZ   corr_YZ  \n",
            "73882  0.335763  0.263937 -0.062947  0.245159  \n",
            "73883  0.359071  0.251497 -0.069058  0.238255  \n",
            "73884  0.382485  0.260917 -0.059155  0.248694  \n",
            "73885  0.425018  0.300276  0.016490  0.236701  \n",
            "73886  0.403227  0.146171 -0.003278  0.237217  \n",
            "\n",
            "[5 rows x 59 columns]\n",
            "       0_Win_ID Act_Type Age_Cat Fall_ADL              File  kurtosis_S1_X  \\\n",
            "73754        36      D10      SA        D  D10_SA14_R04.txt       1.262008   \n",
            "73755        37      D10      SA        D  D10_SA14_R04.txt       1.300664   \n",
            "73756        38      D10      SA        D  D10_SA14_R04.txt       1.833354   \n",
            "73757        39      D10      SA        D  D10_SA14_R04.txt       2.259722   \n",
            "73758        40      D10      SA        D  D10_SA14_R04.txt       2.880143   \n",
            "\n",
            "       max_S1_X  mean_S1_X  min_S1_X  range_S1_X    ...     range_S1_N_VER  \\\n",
            "73754        70     10.515       -42         112    ...           0.360769   \n",
            "73755        52      9.205       -42          94    ...           0.271889   \n",
            "73756        52      8.005       -42          94    ...           0.271889   \n",
            "73757        52      7.050       -42          94    ...           0.271889   \n",
            "73758        31      5.750       -42          73    ...           0.271889   \n",
            "\n",
            "       skewness_S1_N_VER  std_S1_N_VER  var_S1_N_VER   corr_HV   corr_NH  \\\n",
            "73754          -0.267618      0.058477      0.003420 -0.148061  0.999903   \n",
            "73755          -0.827335      0.052459      0.002752 -0.250835  0.999934   \n",
            "73756          -0.893452      0.050944      0.002595 -0.301442  0.999936   \n",
            "73757          -1.085498      0.049826      0.002483 -0.243876  0.999924   \n",
            "73758          -1.248398      0.048019      0.002306 -0.127822  0.999929   \n",
            "\n",
            "        corr_NV   corr_XY   corr_XZ   corr_YZ  \n",
            "73754 -0.143331 -0.455102 -0.542373  0.774255  \n",
            "73755 -0.250181 -0.403609 -0.450076  0.751024  \n",
            "73756 -0.302145 -0.319018 -0.323983  0.712290  \n",
            "73757 -0.244635 -0.243005 -0.234489  0.634301  \n",
            "73758 -0.128748 -0.080378 -0.021972  0.470435  \n",
            "\n",
            "[5 rows x 59 columns]\n"
          ],
          "name": "stdout"
        }
      ]
    },
    {
      "metadata": {
        "id": "hj9T1YLNeoof",
        "colab_type": "code",
        "outputId": "54208aa3-91df-4f01-b636-90da16ab047c",
        "colab": {
          "base_uri": "https://localhost:8080/",
          "height": 1054
        }
      },
      "cell_type": "code",
      "source": [
        "# Prepare dataset with Train examplars\n",
        "\n",
        "frames = [df_only_Falls_train, df_only_ADLs_train]\n",
        "df_ADL_Falls_train = pd.concat(frames)\n",
        "print(\"train ADLs: \"+ str(len(df_only_ADLs_train)))\n",
        "print(\"train Falls: \"+ str(len(df_only_Falls_train)))\n",
        "print(\"train ALL: \"+ str(len(df_ADL_Falls_train)))\n",
        "\n",
        "print(df_ADL_Falls_train.head())\n",
        "print(df_ADL_Falls_train.tail())\n"
      ],
      "execution_count": 0,
      "outputs": [
        {
          "output_type": "stream",
          "text": [
            "train ADLs: 51742\n",
            "train Falls: 51578\n",
            "train ALL: 103320\n",
            "       0_Win_ID Act_Type Age_Cat Fall_ADL              File  kurtosis_S1_X  \\\n",
            "74005         0      F01      SA        F  F01_SA01_R04.txt       2.378725   \n",
            "74006         1      F01      SA        F  F01_SA01_R04.txt       1.758380   \n",
            "74007         2      F01      SA        F  F01_SA01_R04.txt       1.259635   \n",
            "74008         3      F01      SA        F  F01_SA01_R04.txt       1.228117   \n",
            "74009         4      F01      SA        F  F01_SA01_R04.txt       1.033344   \n",
            "\n",
            "       max_S1_X  mean_S1_X  min_S1_X  range_S1_X    ...     range_S1_N_VER  \\\n",
            "74005       114     12.435      -181         295    ...           1.137148   \n",
            "74006       114     10.215      -181         295    ...           1.137148   \n",
            "74007       114     14.545      -181         295    ...           1.137148   \n",
            "74008       114     17.245      -181         295    ...           1.105898   \n",
            "74009       114     16.290      -181         295    ...           1.124796   \n",
            "\n",
            "       skewness_S1_N_VER  std_S1_N_VER  var_S1_N_VER   corr_HV   corr_NH  \\\n",
            "74005           2.095565      0.187731      0.035243  0.490460  0.995227   \n",
            "74006           1.964441      0.188469      0.035521  0.478774  0.994868   \n",
            "74007           1.820719      0.187108      0.035009  0.414585  0.992573   \n",
            "74008           2.009225      0.179511      0.032224  0.414591  0.992878   \n",
            "74009           1.910983      0.182354      0.033253  0.436105  0.993287   \n",
            "\n",
            "        corr_NV   corr_XY   corr_XZ   corr_YZ  \n",
            "74005  0.553179  0.047076  0.530257  0.288389  \n",
            "74006  0.543768  0.022320  0.534386  0.291252  \n",
            "74007  0.496643  0.088437  0.466868  0.261847  \n",
            "74008  0.494766  0.119705  0.479750  0.256974  \n",
            "74009  0.512598  0.093130  0.479493  0.279663  \n",
            "\n",
            "[5 rows x 59 columns]\n",
            "       0_Win_ID Act_Type Age_Cat Fall_ADL              File  kurtosis_S1_X  \\\n",
            "73877        36      D14      SA        D  D14_SA17_R04.txt      -0.210534   \n",
            "73878        37      D14      SA        D  D14_SA17_R04.txt      -0.447829   \n",
            "73879        38      D14      SA        D  D14_SA17_R04.txt      -0.284214   \n",
            "73880        39      D14      SA        D  D14_SA17_R04.txt      -0.346115   \n",
            "73881        40      D14      SA        D  D14_SA17_R04.txt      -0.435528   \n",
            "\n",
            "       max_S1_X  mean_S1_X  min_S1_X  range_S1_X    ...     range_S1_N_VER  \\\n",
            "73877       347    184.245        42         305    ...           1.657134   \n",
            "73878       347    190.090        42         305    ...           1.657134   \n",
            "73879       347    198.075        42         305    ...           1.657134   \n",
            "73880       347    207.485        49         298    ...           1.657134   \n",
            "73881       336    208.140        49         287    ...           1.657134   \n",
            "\n",
            "       skewness_S1_N_VER  std_S1_N_VER  var_S1_N_VER   corr_HV   corr_NH  \\\n",
            "73877           1.817618      0.248727      0.061865  0.634564  0.635461   \n",
            "73878           1.676049      0.248163      0.061585  0.584440  0.581614   \n",
            "73879           2.034859      0.232242      0.053936  0.558561  0.556817   \n",
            "73880           2.236304      0.222970      0.049716  0.570966  0.569200   \n",
            "73881           2.236037      0.182395      0.033268  0.406767  0.404551   \n",
            "\n",
            "        corr_NV   corr_XY   corr_XZ   corr_YZ  \n",
            "73877  0.999159  0.206554 -0.088792 -0.079303  \n",
            "73878  0.999086  0.319084 -0.174252 -0.187629  \n",
            "73879  0.998980  0.391342 -0.269796 -0.251746  \n",
            "73880  0.998893  0.421665 -0.312372 -0.302835  \n",
            "73881  0.998343  0.488371 -0.518035 -0.317396  \n",
            "\n",
            "[5 rows x 59 columns]\n"
          ],
          "name": "stdout"
        }
      ]
    },
    {
      "metadata": {
        "id": "qMYCUQEReopZ",
        "colab_type": "code",
        "outputId": "de066e34-64a6-4a1a-ef2a-63e21f11ba6a",
        "colab": {
          "base_uri": "https://localhost:8080/",
          "height": 1071
        }
      },
      "cell_type": "code",
      "source": [
        "df_ADL_Falls[\"max_S1_N_HOR\"]"
      ],
      "execution_count": 0,
      "outputs": [
        {
          "output_type": "execute_result",
          "data": {
            "text/plain": [
              "0         1.045606\n",
              "1         1.045606\n",
              "2         1.045606\n",
              "3         1.045606\n",
              "4         1.029488\n",
              "5         1.029488\n",
              "6         1.029488\n",
              "7         1.029488\n",
              "8         1.073366\n",
              "9         1.073366\n",
              "10        1.073366\n",
              "11        1.073366\n",
              "12        1.073366\n",
              "13        1.073366\n",
              "14        1.073366\n",
              "15        1.073366\n",
              "16        1.073366\n",
              "17        1.073366\n",
              "18        1.751473\n",
              "19        2.098994\n",
              "20        3.672592\n",
              "21        3.887103\n",
              "22        3.887103\n",
              "23        3.887103\n",
              "24        3.887103\n",
              "25        3.887103\n",
              "26        3.887103\n",
              "27        3.887103\n",
              "28        3.887103\n",
              "29        3.887103\n",
              "            ...   \n",
              "147570    0.995902\n",
              "147571    0.994100\n",
              "147572    0.994100\n",
              "147573    0.994100\n",
              "147574    0.994100\n",
              "147575    0.994100\n",
              "147576    0.994100\n",
              "147577    0.994100\n",
              "147578    0.994100\n",
              "147579    1.747714\n",
              "147580    1.747714\n",
              "147581    1.747714\n",
              "147582    1.747714\n",
              "147583    1.747714\n",
              "147584    1.747714\n",
              "147585    1.747714\n",
              "147586    1.747714\n",
              "147587    1.747714\n",
              "147588    1.747714\n",
              "147589    1.747714\n",
              "147590    1.747714\n",
              "147591    1.747714\n",
              "147592    1.747714\n",
              "147593    1.747714\n",
              "147594    1.747714\n",
              "147595    1.747714\n",
              "147596    1.747714\n",
              "147597    1.747714\n",
              "147598    1.747714\n",
              "147599    1.742192\n",
              "Name: max_S1_N_HOR, Length: 147600, dtype: float64"
            ]
          },
          "metadata": {
            "tags": []
          },
          "execution_count": 13
        }
      ]
    }
  ]
}
